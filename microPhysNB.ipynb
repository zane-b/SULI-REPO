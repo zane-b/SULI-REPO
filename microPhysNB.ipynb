{
 "cells": [
  {
   "cell_type": "code",
   "execution_count": 6,
   "id": "e4f29dab",
   "metadata": {},
   "outputs": [],
   "source": [
    "import numpy as np\n",
    "import matplotlib.pyplot as plt\n",
    "import netCDF4 as nc\n",
    "import pandas as pd\n",
    "import seaborn as sb\n",
    "import math\n",
    "\n",
    "from sklearn.linear_model import LogisticRegression\n",
    "from sklearn.linear_model import SGDClassifier\n",
    "from sklearn.svm import LinearSVC\n",
    "from sklearn.tree import DecisionTreeClassifier\n",
    "from sklearn.neural_network import MLPClassifier\n",
    "\n",
    "from sklearn.tree import DecisionTreeRegressor\n",
    "from sklearn.neural_network import MLPRegressor\n",
    "from sklearn.linear_model import LinearRegression\n",
    "\n",
    "from sklearn.metrics import plot_confusion_matrix\n",
    "from sklearn.preprocessing import MinMaxScaler\n",
    "from sklearn.model_selection import train_test_split\n",
    "from sklearn.metrics import mean_absolute_error"
   ]
  },
  {
   "cell_type": "code",
   "execution_count": 3,
   "id": "9316aad4",
   "metadata": {},
   "outputs": [
    {
     "name": "stdout",
     "output_type": "stream",
     "text": [
      "<class 'netCDF4._netCDF4.Dataset'>\n",
      "<class 'netCDF4._netCDF4.Variable'>\n",
      "float64 ml_in_theta(nsamples, three)\n",
      "    _FillValue: nan\n",
      "unlimited dimensions: \n",
      "current shape = (24000000, 3)\n",
      "filling on\n",
      "<class 'netCDF4._netCDF4.Variable'>\n",
      "float64 ml_in_qc(nsamples, three)\n",
      "    _FillValue: nan\n",
      "unlimited dimensions: \n",
      "current shape = (24000000, 3)\n",
      "filling on\n",
      "<class 'netCDF4._netCDF4.Variable'>\n",
      "float64 ml_in_qv(nsamples, three)\n",
      "    _FillValue: nan\n",
      "unlimited dimensions: \n",
      "current shape = (24000000, 3)\n",
      "filling on\n",
      "<class 'netCDF4._netCDF4.Variable'>\n",
      "float64 ml_in_qr(nsamples, three)\n",
      "    _FillValue: nan\n",
      "unlimited dimensions: \n",
      "current shape = (24000000, 3)\n",
      "filling on\n",
      "<class 'netCDF4._netCDF4.Variable'>\n",
      "float64 ml_in_rho_dry(nsamples, three)\n",
      "    _FillValue: nan\n",
      "unlimited dimensions: \n",
      "current shape = (24000000, 3)\n",
      "filling on\n",
      "<class 'netCDF4._netCDF4.Variable'>\n",
      "float64 ml_in_z(nsamples)\n",
      "    _FillValue: nan\n",
      "unlimited dimensions: \n",
      "current shape = (24000000,)\n",
      "filling on\n",
      "<class 'netCDF4._netCDF4.Variable'>\n",
      "float64 ml_in_exner(nsamples, three)\n",
      "    _FillValue: nan\n",
      "unlimited dimensions: \n",
      "current shape = (24000000, 3)\n",
      "filling on\n",
      "<class 'netCDF4._netCDF4.Variable'>\n",
      "float64 ml_out_theta(nsamples)\n",
      "    _FillValue: nan\n",
      "unlimited dimensions: \n",
      "current shape = (24000000,)\n",
      "filling on\n",
      "<class 'netCDF4._netCDF4.Variable'>\n",
      "float64 ml_out_qv(nsamples)\n",
      "    _FillValue: nan\n",
      "unlimited dimensions: \n",
      "current shape = (24000000,)\n",
      "filling on\n",
      "<class 'netCDF4._netCDF4.Variable'>\n",
      "float64 ml_out_qc(nsamples)\n",
      "    _FillValue: nan\n",
      "unlimited dimensions: \n",
      "current shape = (24000000,)\n",
      "filling on\n",
      "<class 'netCDF4._netCDF4.Variable'>\n",
      "float64 ml_out_qr(nsamples)\n",
      "    _FillValue: nan\n",
      "unlimited dimensions: \n",
      "current shape = (24000000,)\n",
      "filling on\n"
     ]
    }
   ],
   "source": [
    "#load dataset\n",
    "\n",
    "path='/gpfs/alpine/cli900/world-shared/users/zaneb/microPhys/kessler_ml_data_flat.nc'\n",
    "ds=nc.Dataset(path)\n",
    "#prints variable names and dimensions\n",
    "for var in ds.variables.values():\n",
    "    print(var)"
   ]
  },
  {
   "cell_type": "code",
   "execution_count": 6,
   "id": "65b507aa",
   "metadata": {},
   "outputs": [
    {
     "name": "stdout",
     "output_type": "stream",
     "text": [
      "Inside dataOp2() 1e-16\n",
      "1702636\n",
      "1702636 22297364 24000000\n",
      "[dop2]  1702636 22297364 1e-16\n",
      "--------------------------------Total no-op Variable sums-----------------------------\n",
      "[qc]-----in:  2.974747786606549e-13 -----out: 0.0\n",
      "[qv]-----in:  52089.97395831689 -----out: 52089.9739583169\n",
      "[qr]-----in:  1.7362233776116805e-13 -----out: 2.38755e-318\n",
      "---------------------------------Total change in no-op variables------------------------\n",
      "[dqc]  2.974747786606549e-13\n",
      "[dqv]  5.351217651503384e-13\n",
      "[dqr]  1.7362233776116805e-13\n",
      "--------------------------------Total op Variable sums----------------------------------\n",
      "[qc]-----in:  141.7148585429016 -----out: 140.65517154588522\n",
      "[qv]-----in:  5001.335752187428 -----out: 4961.927093145766\n",
      "[qr]-----in:  603.1845752986519 -----out: 598.0151605888512\n",
      "---------------------------------Total change in op variables------------------------\n",
      "[dqc]  26.309639413255496\n",
      "[dqv]  60.63209451999513\n",
      "[dqr]  121.72817254607185\n"
     ]
    }
   ],
   "source": [
    "def dataOp2(theta_in, theta_out, qv_in, qv_out, qc_in, qc_out, qr_in, qr_out, delta):\n",
    "    #Function to identify op/no-op values and identify them with boolean\n",
    "    #returns two lists of booleans\n",
    "    print(\"Inside dataOp2()\", delta)\n",
    "    \n",
    "    opmask = np.zeros(24000000, dtype=bool)\n",
    "    nopmask = np.zeros(24000000, dtype=bool)\n",
    "    opcount=0\n",
    "    nopcount=0\n",
    "    #delta = 1E-8\n",
    "    for i in range(24000000):\n",
    "        if ( np.abs(theta_in[i]-theta_out[i]) > delta ) or \\\n",
    "           ( np.abs(qv_in[i]-qv_out[i]) > delta ) or \\\n",
    "           ( np.abs(qc_in[i]-qc_out[i]) > delta ) or \\\n",
    "           ( np.abs(qr_in[i]-qr_out[i]) > delta ):\n",
    "            opcount+=1\n",
    "            opmask[i] = True\n",
    "    print(opcount)\n",
    "\n",
    "    for i in range(24000000):\n",
    "        if ( np.abs(theta_in[i]-theta_out[i]) < delta ) and \\\n",
    "           ( np.abs(qv_in[i]-qv_out[i]) < delta ) and \\\n",
    "           ( np.abs(qc_in[i]-qc_out[i]) < delta ) and \\\n",
    "           ( np.abs(qr_in[i]-qr_out[i]) < delta ):\n",
    "            nopcount+=1\n",
    "            nopmask[i] = True\n",
    "    print(opcount, nopcount, opcount+nopcount)\n",
    "    \n",
    "    print('--------------------------------Total no-op Variable sums-----------------------------')\n",
    "    print( \"[qc]-----in: \", np.sum(np.abs(qc_in[nopmask2])),'-----out:', np.sum(np.abs(qc_out[nopmask2])) )\n",
    "    print( \"[qv]-----in: \", np.sum(np.abs(qv_in[nopmask2])),'-----out:', np.sum(np.abs(qv_out[nopmask2])) )\n",
    "    print( \"[qr]-----in: \", np.sum(np.abs(qr_in[nopmask2])),'-----out:', np.sum(np.abs(qr_out[nopmask2])) )\n",
    "\n",
    "    print('---------------------------------Total change in no-op variables------------------------')\n",
    "    print( \"[dqc] \", np.sum( np.abs(qc_in[nopmask2] - qc_out[nopmask2]) ) )\n",
    "    print( \"[dqv] \", np.sum( np.abs(qv_in[nopmask2] - qv_out[nopmask2]) ) )\n",
    "    print( \"[dqr] \", np.sum( np.abs(qr_in[nopmask2] - qr_out[nopmask2]) ) )\n",
    "\n",
    "    print('--------------------------------Total op Variable sums----------------------------------')\n",
    "    print( \"[qc]-----in: \", np.sum(np.abs(qc_in[opmask2])),'-----out:', np.sum(np.abs(qc_out[opmask2])) )\n",
    "    print( \"[qv]-----in: \", np.sum(np.abs(qv_in[opmask2])),'-----out:', np.sum(np.abs(qv_out[opmask2])) )\n",
    "    print( \"[qr]-----in: \", np.sum(np.abs(qr_in[opmask2])),'-----out:', np.sum(np.abs(qr_out[opmask2])) )\n",
    "\n",
    "    print('---------------------------------Total change in op variables------------------------')\n",
    "    print( \"[dqc] \", np.sum( np.abs(qc_in[opmask2] - qc_out[opmask2]) ) )\n",
    "    print( \"[dqv] \", np.sum( np.abs(qv_in[opmask2] - qv_out[opmask2]) ) )\n",
    "    print( \"[dqr] \", np.sum( np.abs(qr_in[opmask2] - qr_out[opmask2]) ) )\n",
    "        \n",
    "    return opmask, nopmask\n",
    "\n",
    "\n",
    "num1, num2 = 0, 24000000\n",
    "theta_in = ds['ml_in_theta'][:,1]\n",
    "qc_in = ds['ml_in_qc'][num1:num2,1]\n",
    "qv_in = ds['ml_in_qv'][num1:num2,1]\n",
    "qr_in = ds['ml_in_qr'][num1:num2,1]\n",
    "rho_dry_in = ds['ml_in_rho_dry'][num1:num2,1]\n",
    "z_in = ds['ml_in_z'][num1:num2]\n",
    "exner_in = ds['ml_in_exner'][num1:num2,1]\n",
    "theta_out = ds['ml_out_theta'][num1:num2]\n",
    "qc_out = ds['ml_out_qc'][num1:num2]\n",
    "qv_out = ds['ml_out_qv'][num1:num2]\n",
    "qr_out = ds['ml_out_qr'][num1:num2]\n",
    "\n",
    "delta = 1E-16\n",
    "opmask2, nopmask2 = dataOp2(theta_in, theta_out, qv_in, qv_out, qc_in, qc_out, qr_in, qr_out, delta)\n",
    "print(\"[dop2] \", np.sum(opmask2), np.sum(nopmask2), delta)\n",
    "\n"
   ]
  },
  {
   "cell_type": "code",
   "execution_count": 11,
   "id": "15903a13",
   "metadata": {},
   "outputs": [],
   "source": [
    "def toDF(ds,num1,num2,opmask2):\n",
    "    #Function to transform dataset into dataframe\n",
    "    #takes in dataset, two ints to control the range/number\n",
    "    #of samples to be included, and list of booleans for op/no-op\n",
    "    #returns ds as a dataframe\n",
    "\n",
    "\n",
    "\n",
    "    inputs={ 'theta': ds['ml_in_theta'][num1:num2,1],\n",
    "           'qc': ds['ml_in_qc'][num1:num2,1],\n",
    "           'qv': ds['ml_in_qv'][num1:num2,1],\n",
    "           'qr': ds['ml_in_qr'][num1:num2,1],\n",
    "           'rho_dry': ds['ml_in_rho_dry'][num1:num2,1],\n",
    "           'z': ds['ml_in_z'][num1:num2],\n",
    "           'exner': ds['ml_in_exner'][num1:num2,1],\n",
    "           'theta_out': ds['ml_out_theta'][num1:num2],\n",
    "           'qc_out': ds['ml_out_qc'][num1:num2],\n",
    "           'qv_out': ds['ml_out_qv'][num1:num2],\n",
    "           'qr_out': ds['ml_out_qr'][num1:num2],\n",
    "           'operation': opmask2[num1:num2]}\n",
    "\n",
    "    df=pd.DataFrame(inputs,columns=['theta','qc','qv','qr','rho_dry','z','exner','theta_out','qc_out','qv_out','qr_out', 'operation'])\n",
    "\n",
    "    #df.head()\n",
    "    \n",
    "    return df\n",
    "\n",
    "def minMaxScale(df):\n",
    "    #Scales dataframe using min-max normalization\n",
    "    #returns scaled dataframe\n",
    "    \n",
    "    scaler=MinMaxScaler(copy=False)\n",
    "    df[['theta','qc','qv','qr','rho_dry','exner','z','theta_out','qc_out','qv_out','qr_out']]=scaler.fit_transform(df[['theta','qc','qv','qr','rho_dry','exner','z','theta_out','qc_out','qv_out','qr_out']])\n",
    "\n",
    "    return df\n",
    "\n",
    "def mixSamples(df,nopVal):\n",
    "    #function to mix op/no-op samples\n",
    "    #takes in dataframe and vaulue for number of no-op samples to\n",
    "    #mix the op samples. For nopVal<1: there are more no-op samples in the dataset\n",
    "    #For nopVal>1, there are more no-op samples in the dataset\n",
    "    #returns mixed op/no-op df\n",
    "    \n",
    "    opDF=df[(df['operation']==True)]\n",
    "    nopDF=df[(df['operation']!=True)]\n",
    "    mixDF=opDF.copy()\n",
    "    #most likely a better/prettier method for this step:\n",
    "    mixDF=mixDF.append(nopDF.sample(int(nopPer*len(opDF))))\n",
    "    print('op/no-op ratio=',len(mixDF[mixDF['operation']==True])/len(mixDF[mixDF['operation']==False]))\n",
    "    \n",
    "    return mixDF"
   ]
  },
  {
   "cell_type": "code",
   "execution_count": 12,
   "id": "0b9beb84",
   "metadata": {},
   "outputs": [
    {
     "ename": "NameError",
     "evalue": "name 'opmask2' is not defined",
     "output_type": "error",
     "traceback": [
      "\u001b[0;31m---------------------------------------------------------------------------\u001b[0m",
      "\u001b[0;31mNameError\u001b[0m                                 Traceback (most recent call last)",
      "\u001b[0;32m<ipython-input-12-60426518bf02>\u001b[0m in \u001b[0;36m<module>\u001b[0;34m\u001b[0m\n\u001b[0;32m----> 1\u001b[0;31m \u001b[0mdf\u001b[0m\u001b[0;34m=\u001b[0m\u001b[0mtoDF\u001b[0m\u001b[0;34m(\u001b[0m\u001b[0mds\u001b[0m\u001b[0;34m,\u001b[0m\u001b[0;36m0\u001b[0m\u001b[0;34m,\u001b[0m\u001b[0;36m24000000\u001b[0m\u001b[0;34m,\u001b[0m\u001b[0mopmask2\u001b[0m\u001b[0;34m)\u001b[0m\u001b[0;34m\u001b[0m\u001b[0;34m\u001b[0m\u001b[0m\n\u001b[0m\u001b[1;32m      2\u001b[0m \u001b[0;34m\u001b[0m\u001b[0m\n\u001b[1;32m      3\u001b[0m \u001b[0mx1\u001b[0m\u001b[0;34m=\u001b[0m\u001b[0mmixDF\u001b[0m\u001b[0;34m[\u001b[0m\u001b[0;34m[\u001b[0m\u001b[0;34m'theta'\u001b[0m\u001b[0;34m,\u001b[0m\u001b[0;34m'qc'\u001b[0m\u001b[0;34m,\u001b[0m\u001b[0;34m'qv'\u001b[0m\u001b[0;34m,\u001b[0m\u001b[0;34m'qr'\u001b[0m\u001b[0;34m,\u001b[0m\u001b[0;34m'rho_dry'\u001b[0m\u001b[0;34m,\u001b[0m\u001b[0;34m'exner'\u001b[0m\u001b[0;34m,\u001b[0m\u001b[0;34m'z'\u001b[0m\u001b[0;34m]\u001b[0m\u001b[0;34m]\u001b[0m\u001b[0;34m.\u001b[0m\u001b[0mcopy\u001b[0m\u001b[0;34m(\u001b[0m\u001b[0;34m)\u001b[0m\u001b[0;34m\u001b[0m\u001b[0;34m\u001b[0m\u001b[0m\n\u001b[1;32m      4\u001b[0m \u001b[0my1\u001b[0m\u001b[0;34m=\u001b[0m\u001b[0mmixDF\u001b[0m\u001b[0;34m[\u001b[0m\u001b[0;34m[\u001b[0m\u001b[0;34m'operation'\u001b[0m\u001b[0;34m]\u001b[0m\u001b[0;34m]\u001b[0m\u001b[0;34m\u001b[0m\u001b[0;34m\u001b[0m\u001b[0m\n\u001b[1;32m      5\u001b[0m \u001b[0;34m\u001b[0m\u001b[0m\n",
      "\u001b[0;31mNameError\u001b[0m: name 'opmask2' is not defined"
     ]
    }
   ],
   "source": [
    "\n",
    "df=toDF(ds,0,24000000,opmask2)\n",
    "\n",
    "x1=mixDF[['theta','qc','qv','qr','rho_dry','exner','z']].copy()\n",
    "y1=mixDF[['operation']]\n",
    "\n",
    "xtrain1, xtest1, ytrain1, ytest1 = train_test_split(x1, y1, test_size=0.30, random_state=10)\n"
   ]
  },
  {
   "cell_type": "code",
   "execution_count": 13,
   "id": "cfb375e6",
   "metadata": {},
   "outputs": [
    {
     "data": {
      "text/plain": [
       "<AxesSubplot:>"
      ]
     },
     "execution_count": 13,
     "metadata": {},
     "output_type": "execute_result"
    },
    {
     "data": {
      "image/png": "[encoded data removed]",
      "text/plain": [
       "<Figure size 720x720 with 2 Axes>"
      ]
     },
     "metadata": {
      "needs_background": "light"
     },
     "output_type": "display_data"
    }
   ],
   "source": [
    "#creates correlation matrix for operation data\n",
    "plt.figure(figsize=(10,10))\n",
    "sb.heatmap(df.corr(),annot=True, cmap='coolwarm')"
   ]
  },
  {
   "cell_type": "code",
   "execution_count": 9,
   "id": "b499f8e2",
   "metadata": {},
   "outputs": [],
   "source": [
    "from sklearn.linear_model import LogisticRegression\n",
    "from sklearn.linear_model import SGDClassifier\n",
    "from sklearn.svm import LinearSVC\n",
    "from sklearn.tree import DecisionTreeClassifier\n",
    "from sklearn.neural_network import MLPClassifier\n",
    "from sklearn.metrics import plot_confusion_matrix\n",
    "\n",
    "stopTol=1e-5\n",
    "ytrain1=ytrain1.values.ravel()\n",
    "ytest1=ytest1.values.ravel()\n",
    "\n",
    "lr=LogisticRegression(dual=False,tol=stopTol,random_state=0,verbose=True)\n",
    "sgd=SGDClassifier(verbose=True,random_state=0,early_stopping=True)\n",
    "svc=LinearSVC(dual=False,tol=stopTol,verbose=True,random_state=0)\n",
    "dtc=DecisionTreeClassifier(min_samples_split=20,random_state=0)\n",
    "mlp=MLPClassifier(hidden_layer_sizes=[100,100,100,100,100,100],tol=stopTol,early_stopping=True,verbose=True)"
   ]
  },
  {
   "cell_type": "code",
   "execution_count": null,
   "id": "96673075",
   "metadata": {},
   "outputs": [],
   "source": []
  },
  {
   "cell_type": "code",
   "execution_count": 9,
   "id": "9093d727",
   "metadata": {},
   "outputs": [],
   "source": [
    "#Classification Models\n",
    "\n",
    "def logRegress(xtrain,ytrain,xtest,ytest,tol,verb):\n",
    "    #function to perform logistic regression on xtrain/ytrain,\n",
    "    #tests on xtest/ytest, and print scores\n",
    "    #takes in train/test sets, stopping tolerence, and boolean\n",
    "    #for verbose training\n",
    "    #returns model predictions for ytest\n",
    "    \n",
    "    print('-----Logistic Regression-----')\n",
    "    lr=LogisticRegression(dual=False,tol=tol,random_state=0,verbose=verb)\n",
    "    lr.fit(xtrain,ytrain)\n",
    "    print('accuracy score=',lr.score(xtest,ytest))\n",
    "    plot_confusion_matrix(lr,xtest,ytest,normalize='all')\n",
    "    ypred=lr.predict(xtest)\n",
    "    \n",
    "    return ypred\n",
    "\n",
    "def sgdClass(xtrain,ytrain,xtest,ytest,verb,es):\n",
    "    #function to perform stochastic gradient decent classification\n",
    "    #on xtrain/ytrain, test on xtest/ytest, and print scores\n",
    "    #takes in train/test sets, boolean\n",
    "    #for verbose training, and boolean for early stopping\n",
    "    #returns model predictions for ytest\n",
    "    \n",
    "    print('-----SGD Classifier-----')\n",
    "    sgd=SGDClassifier(verbose=verb,random_state=0,early_stopping=es)\n",
    "    sgd.fit(xtrain,ytrain)\n",
    "    print('accuracy score=',sgd.score(xtest,ytest))\n",
    "    plot_confusion_matrix(sgd,xtest,ytest,normalize='all')\n",
    "    ypred=sgd.predict(xtest)\n",
    "    \n",
    "    return ypred\n",
    "\n",
    "def SVC(xtrain,ytrain,xtest,ytest,tol,verb):\n",
    "    #funtion to perform support vector classification on xtrain/train, \n",
    "    #test on xtest/ytest, and print scores\n",
    "    #takes in train/test sets, stopping tolerance, and boolean for vebose training\n",
    "    #returns model predictions for xtest\n",
    "    \n",
    "    print('-----SVC-----')\n",
    "    svc=LinearSVC(dual=False,tol=tol,verbose=verb,random_state=0)\n",
    "    svc.fit(xtrain,ytrain)\n",
    "    print('accuracy score=',svc.score(xtest,ytest))\n",
    "    plot_confusion_matrix(svc,xtest,ytest,normalize='all')\n",
    "    ypred=svc.predict(xtest)\n",
    "    \n",
    "    return ypred\n",
    "\n",
    "def dtClass(xtrain,ytrain,xtest,ytest,minSplit):\n",
    "    #function to perform decision tree classification on xtrain/ytrain,\n",
    "    #test on xtest/ytest, and print scores\n",
    "    #takes in train/tests sets and int to indicate the minimum samples needed to split\n",
    "    #return model predictions for xtest\n",
    "    \n",
    "    print('-----DT Classifier-----')\n",
    "    dtc=DecisionTreeClassifier(min_samples_split=minSplit,random_state=0)\n",
    "    dtc.fit(xtrain,ytrain)\n",
    "    print('accuracy score=',dtc.score(xtest,ytest))\n",
    "    plot_confusion_matrix(dtc,xtest,ytest,normalize='all')\n",
    "    ypred=dtc.predict(xtest)\n",
    "    \n",
    "    return ypred\n",
    "\n",
    "def nnClass(xtrain,ytrain,xtest,ytest,layers,act,lr,tol,es,verb):\n",
    "    #function to perform classification with neural network, \n",
    "    #test on xtest/ytest, and print scores\n",
    "    #takes in train/test sets, array for number/size of layers,\n",
    "    #a string for the activation function, learning rate, stopping tolerence,\n",
    "    #and two booleans for early stopping and verbose training\n",
    "    print('-----NN Classifier-----')\n",
    "    print('Number of hidden layers:',len(layers),'-----hidden layer sizes:',layers)\n",
    "    mlp=MLPClassifier(hidden_layer_sizes=layers,activation=act, learning_rate_init=lr,tol=tol,early_stopping=es,verbose=verb)\n",
    "    mlp.fit(xtrain1,ytrain1)\n",
    "    print('accuracy score=',mlp.score(xtest1,ytest1))\n",
    "    plot_confusion_matrix(mlp,xtest1,ytest1,normalize='all')\n",
    "\n",
    "    ypred=mlp.predict(xtest)\n",
    "    \n",
    "    return ypred"
   ]
  },
  {
   "cell_type": "code",
   "execution_count": 10,
   "id": "37836d68",
   "metadata": {},
   "outputs": [],
   "source": [
    "#Regression Models\n",
    "\n",
    "def linRegress():\n",
    "    #function to perform linear regression on xtrain/ytrain,\n",
    "    #test on xtest/ytest, and print results\n",
    "    #takes in train/test set, returns predictions for xtest\n",
    "    \n",
    "    linReg=LinearRegression()\n",
    "    linReg.fit(xtrain,ytrain)\n",
    "    ypred=linReg.predict(xtest)\n",
    "\n",
    "    print('-----Linear Regressor-----')\n",
    "    print('# features:', linReg.rank_,)\n",
    "    print('MAE test scores ----- AVG=',mean_absolute_error(ytest,ypred),'----- by variable:',mean_absolute_error(ytest,ypred,multioutput='raw_values'))\n",
    "    \n",
    "    return ypred\n",
    "\n",
    "def dtRegress(xtrain,ytrain,xtest,ytest,minSplit,crit):\n",
    "    #function to perform decision tree regression on xtrain/ytrain,\n",
    "    #test on xtest/ytest, and print the results\n",
    "    #Takes in train/test datasets, int for the minimum samples to split,\n",
    "    #and string for split criterion ('mse' or 'mae')\n",
    "    #returns model predictions for xtest\n",
    "    \n",
    "    dtr=DecisionTreeRegressor(min_samples_split=20,random_state=0,criterion=crit)\n",
    "    dtr.fit(xtrain,ytrain)\n",
    "    ypred=dtr.predict(xtest)\n",
    "\n",
    "    print('-----DT Regressor-----')\n",
    "    print('# features:',dtr.n_features_,'-----','# outputs:',dtr.n_outputs_)\n",
    "    print('MAE test scores ----- AVG=',mean_absolute_error(ytest,ypred),'----- by variable:',mean_absolute_error(ytest,ypred,multioutput='raw_values'))\n",
    "\n",
    "    return ypred\n",
    "\n",
    "def nnRegress(xtrain,ytrain,xtest,ytest,layers,act,lr,tol,es,verb):\n",
    "    #function to perform regression on xtrain/ytrain using neural network,\n",
    "    #test on xtest/ytest, and print results\n",
    "    #Takes in train/test sets, array for number of layers and nodes, activation function,\n",
    "    #learnig rate, stopping tolerance, boolean for early stopping, and boolean for verbose\n",
    "    #Returns model predictions for xtest\n",
    "    \n",
    "    mlp=MLPRegressor(hidden_layer_sizes=layers,tol=tol,early_stopping=es,verbose=verb)\n",
    "    mlp.fit(xtrain,ytrain)\n",
    "    ypred=mlp.predict(x)\n",
    "    \n",
    "    print('-----NN Regressor-----')\n",
    "    print('Number of hidden layers:', len(layers),'-----hidden layer sizes:',layers)\n",
    "    print('# of Iterations:',mlpReg.n_iter_,'-----','Final Training Loss=',mlpReg.loss_)\n",
    "    print('MAE test scores ----- AVG=',mean_absolute_error(ytest,ypred),'----- by variable:',mean_absolute_error(ytest,ypred,multioutput='raw_values'))\n",
    "    \n",
    "    return ypred"
   ]
  },
  {
   "cell_type": "code",
   "execution_count": null,
   "id": "ac568edc",
   "metadata": {},
   "outputs": [],
   "source": []
  },
  {
   "cell_type": "code",
   "execution_count": 10,
   "id": "ff8206dc",
   "metadata": {},
   "outputs": [
    {
     "name": "stdout",
     "output_type": "stream",
     "text": [
      "Iteration 1, loss = 0.49445105\n",
      "Validation score: 0.693064\n",
      "Iteration 2, loss = 0.48181703\n",
      "Validation score: 0.672071\n",
      "Iteration 3, loss = 0.45677289\n",
      "Validation score: 0.775743\n",
      "Iteration 4, loss = 0.42070539\n",
      "Validation score: 0.784494\n",
      "Iteration 5, loss = 0.41319554\n",
      "Validation score: 0.801044\n",
      "Iteration 6, loss = 0.39231554\n",
      "Validation score: 0.807047\n",
      "Iteration 7, loss = 0.37991353\n",
      "Validation score: 0.812874\n",
      "Iteration 8, loss = 0.37777423\n",
      "Validation score: 0.816612\n",
      "Iteration 9, loss = 0.37206977\n",
      "Validation score: 0.816977\n",
      "Iteration 10, loss = 0.37180725\n",
      "Validation score: 0.823236\n",
      "Iteration 11, loss = 0.37123951\n",
      "Validation score: 0.808100\n",
      "Iteration 12, loss = 0.37029746\n",
      "Validation score: 0.808339\n",
      "Iteration 13, loss = 0.36551103\n",
      "Validation score: 0.794453\n",
      "Iteration 14, loss = 0.36308320\n",
      "Validation score: 0.779963\n",
      "Iteration 15, loss = 0.36094068\n",
      "Validation score: 0.830209\n",
      "Iteration 16, loss = 0.35975019\n",
      "Validation score: 0.827050\n",
      "Iteration 17, loss = 0.35885692\n",
      "Validation score: 0.821944\n",
      "Iteration 18, loss = 0.35852146\n",
      "Validation score: 0.823161\n",
      "Iteration 19, loss = 0.35661270\n",
      "Validation score: 0.831413\n",
      "Iteration 20, loss = 0.35575183\n",
      "Validation score: 0.830733\n",
      "Iteration 21, loss = 0.35446979\n",
      "Validation score: 0.822641\n",
      "Iteration 22, loss = 0.35352289\n",
      "Validation score: 0.819675\n",
      "Iteration 23, loss = 0.35299805\n",
      "Validation score: 0.834207\n",
      "Iteration 24, loss = 0.35254583\n",
      "Validation score: 0.812811\n",
      "Iteration 25, loss = 0.35245547\n",
      "Validation score: 0.818206\n",
      "Iteration 26, loss = 0.35081510\n",
      "Validation score: 0.831962\n",
      "Iteration 27, loss = 0.35115916\n",
      "Validation score: 0.832260\n",
      "Iteration 28, loss = 0.35072363\n",
      "Validation score: 0.835847\n",
      "Iteration 29, loss = 0.35147342\n",
      "Validation score: 0.781792\n",
      "Iteration 30, loss = 0.35050981\n",
      "Validation score: 0.837563\n",
      "Iteration 31, loss = 0.34853695\n",
      "Validation score: 0.835054\n",
      "Iteration 32, loss = 0.34738110\n",
      "Validation score: 0.837970\n",
      "Iteration 33, loss = 0.34689217\n",
      "Validation score: 0.830246\n",
      "Iteration 34, loss = 0.34883540\n",
      "Validation score: 0.785845\n",
      "Iteration 35, loss = 0.34829988\n",
      "Validation score: 0.832227\n",
      "Iteration 36, loss = 0.34664433\n",
      "Validation score: 0.826072\n",
      "Iteration 37, loss = 0.34617268\n",
      "Validation score: 0.836959\n",
      "Iteration 38, loss = 0.34535962\n",
      "Validation score: 0.829642\n",
      "Iteration 39, loss = 0.34588931\n",
      "Validation score: 0.835327\n",
      "Iteration 40, loss = 0.34406225\n",
      "Validation score: 0.835700\n",
      "Iteration 41, loss = 0.34433563\n",
      "Validation score: 0.835058\n",
      "Iteration 42, loss = 0.34252708\n",
      "Validation score: 0.832818\n",
      "Iteration 43, loss = 0.34362810\n",
      "Validation score: 0.833884\n",
      "Validation score did not improve more than tol=0.000010 for 10 consecutive epochs. Stopping.\n",
      "accuracy score= 0.8381862640492883\n"
     ]
    },
    {
     "data": {
      "text/plain": [
       "<sklearn.metrics._plot.confusion_matrix.ConfusionMatrixDisplay at 0x7fe0ddfc9520>"
      ]
     },
     "execution_count": 10,
     "metadata": {},
     "output_type": "execute_result"
    },
    {
     "data": {
      "image/png": "[encoded data removed]",
      "text/plain": [
       "<Figure size 432x288 with 2 Axes>"
      ]
     },
     "metadata": {
      "needs_background": "light"
     },
     "output_type": "display_data"
    }
   ],
   "source": [
    "mlp.fit(xtrain1,ytrain1)\n",
    "print('accuracy score=',mlp.score(xtest1,ytest1))\n",
    "plot_confusion_matrix(mlp,xtest1,ytest1,normalize='all')"
   ]
  },
  {
   "cell_type": "code",
   "execution_count": 65,
   "id": "a3abc825",
   "metadata": {},
   "outputs": [
    {
     "name": "stderr",
     "output_type": "stream",
     "text": [
      "[Parallel(n_jobs=1)]: Using backend SequentialBackend with 1 concurrent workers.\n",
      "/ccs/home/zaneb/miniconda3/envs/py38/lib/python3.8/site-packages/sklearn/linear_model/_logistic.py:763: ConvergenceWarning: lbfgs failed to converge (status=1):\n",
      "STOP: TOTAL NO. of ITERATIONS REACHED LIMIT.\n",
      "\n",
      "Increase the number of iterations (max_iter) or scale the data as shown in:\n",
      "    https://scikit-learn.org/stable/modules/preprocessing.html\n",
      "Please also refer to the documentation for alternative solver options:\n",
      "    https://scikit-learn.org/stable/modules/linear_model.html#logistic-regression\n",
      "  n_iter_i = _check_optimize_result(\n",
      "[Parallel(n_jobs=1)]: Done   1 out of   1 | elapsed:  1.9min finished\n"
     ]
    },
    {
     "name": "stdout",
     "output_type": "stream",
     "text": [
      "accuracy score= 0.9338642272882032\n"
     ]
    },
    {
     "data": {
      "text/plain": [
       "<sklearn.metrics._plot.confusion_matrix.ConfusionMatrixDisplay at 0x7f9f0b33bfa0>"
      ]
     },
     "execution_count": 65,
     "metadata": {},
     "output_type": "execute_result"
    },
    {
     "data": {
      "image/png": "[encoded data removed]",
      "text/plain": [
       "<Figure size 432x288 with 2 Axes>"
      ]
     },
     "metadata": {
      "needs_background": "light"
     },
     "output_type": "display_data"
    }
   ],
   "source": [
    "lr.fit(xtrain1,ytrain1)\n",
    "print('accuracy score=',lr.score(xtest1,ytest1))\n",
    "plot_confusion_matrix(lr,xtest1,ytest1,normalize='all')"
   ]
  },
  {
   "cell_type": "code",
   "execution_count": 66,
   "id": "a63d40ee",
   "metadata": {},
   "outputs": [
    {
     "name": "stdout",
     "output_type": "stream",
     "text": [
      "-- Epoch 1\n",
      "Norm: 11.57, NNZs: 7, Bias: -0.978732, T: 11799267, Avg. loss: 0.145537\n",
      "Total training time: 2.27 seconds.\n",
      "-- Epoch 2\n",
      "Norm: 11.57, NNZs: 7, Bias: -0.998602, T: 23598534, Avg. loss: 0.144442\n",
      "Total training time: 6.30 seconds.\n",
      "-- Epoch 3\n",
      "Norm: 11.57, NNZs: 7, Bias: -1.005108, T: 35397801, Avg. loss: 0.144410\n",
      "Total training time: 10.32 seconds.\n",
      "-- Epoch 4\n",
      "Norm: 11.57, NNZs: 7, Bias: -1.007562, T: 47197068, Avg. loss: 0.144395\n",
      "Total training time: 14.35 seconds.\n",
      "-- Epoch 5\n",
      "Norm: 11.57, NNZs: 7, Bias: -1.008755, T: 58996335, Avg. loss: 0.144386\n",
      "Total training time: 18.37 seconds.\n",
      "-- Epoch 6\n",
      "Norm: 11.57, NNZs: 7, Bias: -1.009398, T: 70795602, Avg. loss: 0.144380\n",
      "Total training time: 22.40 seconds.\n",
      "Convergence after 6 epochs took 24.16 seconds\n",
      "accuracy score= 0.9175905311888036\n"
     ]
    },
    {
     "data": {
      "text/plain": [
       "<sklearn.metrics._plot.confusion_matrix.ConfusionMatrixDisplay at 0x7fa413d950d0>"
      ]
     },
     "execution_count": 66,
     "metadata": {},
     "output_type": "execute_result"
    },
    {
     "data": {
      "image/png": "[encoded data removed]",
      "text/plain": [
       "<Figure size 432x288 with 2 Axes>"
      ]
     },
     "metadata": {
      "needs_background": "light"
     },
     "output_type": "display_data"
    }
   ],
   "source": [
    "sgd.fit(xtrain1,ytrain1)\n",
    "print('accuracy score=',sgd.score(xtest1,ytest1))\n",
    "plot_confusion_matrix(sgd,xtest1,ytest1,normalize='all')"
   ]
  },
  {
   "cell_type": "code",
   "execution_count": 67,
   "id": "0c7fc760",
   "metadata": {},
   "outputs": [
    {
     "name": "stdout",
     "output_type": "stream",
     "text": [
      "[LibLinear]accuracy score= 0.9372198083577711\n"
     ]
    },
    {
     "data": {
      "text/plain": [
       "<sklearn.metrics._plot.confusion_matrix.ConfusionMatrixDisplay at 0x7fa40cd146a0>"
      ]
     },
     "execution_count": 67,
     "metadata": {},
     "output_type": "execute_result"
    },
    {
     "data": {
      "image/png": "[encoded data removed]",
      "text/plain": [
       "<Figure size 432x288 with 2 Axes>"
      ]
     },
     "metadata": {
      "needs_background": "light"
     },
     "output_type": "display_data"
    }
   ],
   "source": [
    "svc.fit(xtrain1,ytrain1)\n",
    "print('accuracy score=',svc.score(xtest1,ytest1))\n",
    "plot_confusion_matrix(svc,xtest1,ytest1,normalize='all')"
   ]
  },
  {
   "cell_type": "code",
   "execution_count": 68,
   "id": "d34f5a0c",
   "metadata": {},
   "outputs": [
    {
     "name": "stdout",
     "output_type": "stream",
     "text": [
      "accuracy score= 0.9674700495612952\n"
     ]
    },
    {
     "data": {
      "text/plain": [
       "<sklearn.metrics._plot.confusion_matrix.ConfusionMatrixDisplay at 0x7fa40cd23a00>"
      ]
     },
     "execution_count": 68,
     "metadata": {},
     "output_type": "execute_result"
    },
    {
     "data": {
      "image/png": "[encoded data removed]",
      "text/plain": [
       "<Figure size 432x288 with 2 Axes>"
      ]
     },
     "metadata": {
      "needs_background": "light"
     },
     "output_type": "display_data"
    }
   ],
   "source": [
    "dtc.fit(xtrain1,ytrain1)\n",
    "print('accuracy score=',dtc.score(xtest1,ytest1))\n",
    "plot_confusion_matrix(dtc,xtest1,ytest1,normalize='all')"
   ]
  },
  {
   "cell_type": "code",
   "execution_count": 8,
   "id": "646f84d9",
   "metadata": {},
   "outputs": [
    {
     "name": "stdout",
     "output_type": "stream",
     "text": [
      "op/no-op ratio= 10.000035239599914\n",
      "theta        0.166239\n",
      "qc           0.019929\n",
      "qv           0.176613\n",
      "qr           0.015301\n",
      "rho_dry      0.471578\n",
      "z            0.374875\n",
      "exner        0.588686\n",
      "theta_out    0.167121\n",
      "qc_out       0.019940\n",
      "qv_out       0.175243\n",
      "qr_out       0.015280\n",
      "operation    0.909091\n",
      "dtype: float64\n"
     ]
    }
   ],
   "source": [
    "from sklearn.tree import DecisionTreeRegressor\n",
    "from sklearn.neural_network import MLPRegressor\n",
    "from sklearn.linear_model import LinearRegression\n",
    "from sklearn.preprocessing import MinMaxScaler\n",
    "from sklearn.model_selection import train_test_split\n",
    "\n",
    "scaler=MinMaxScaler(copy=False)\n",
    "\n",
    "df[['theta','qc','qv','qr','rho_dry','exner','z','theta_out','qc_out','qv_out','qr_out']]=scaler.fit_transform(df[['theta','qc','qv','qr','rho_dry','exner','z','theta_out','qc_out','qv_out','qr_out']])\n",
    "\n",
    "\n",
    "opDF=df[(df['operation']==True)]\n",
    "nopDF=df[(df['operation']!=True)]\n",
    "\n",
    "\n",
    "nopPer=.1\n",
    "mixDF=opDF.copy()\n",
    "mixDF=mixDF.append(nopDF.sample(int(nopPer*len(opDF))))\n",
    "print('op/no-op ratio=',len(mixDF[mixDF['operation']==True])/len(mixDF[mixDF['operation']==False]))\n",
    "\n",
    "x2=mixDF[['theta','qc','qv','qr','rho_dry','exner','z']].copy()\n",
    "y2=mixDF[['theta_out','qc_out','qv_out','qr_out']].copy()\n",
    "\n",
    "xtrain2, xtest2, ytrain2, ytest2 = train_test_split(x2, y2, test_size=0.30, random_state=20)\n",
    "\n",
    "print(mixDF.mean())\n",
    "print(mixDF.)"
   ]
  },
  {
   "cell_type": "code",
   "execution_count": 67,
   "id": "077cb118",
   "metadata": {},
   "outputs": [],
   "source": [
    "from sklearn.metrics import r2_score\n",
    "from sklearn.metrics import mean_absolute_error\n",
    "\n",
    "stopTol=1e-5\n",
    "\n",
    "linReg=LinearRegression()\n",
    "dtr=DecisionTreeRegressor(min_samples_split=20,random_state=0)\n",
    "mlpReg=MLPRegressor(hidden_layer_sizes=[100,100,100,100,100,100],tol=stopTol,early_stopping=True,verbose=False)\n"
   ]
  },
  {
   "cell_type": "code",
   "execution_count": 68,
   "id": "0c94daed",
   "metadata": {},
   "outputs": [
    {
     "name": "stdout",
     "output_type": "stream",
     "text": [
      "-------------------------------DNN (six 100 node layers)--------------------------\n",
      "# of Iterations: 20 ----- Final Training Loss= 2.482245693415436e-05\n",
      "R^2 test scores ----- AVG= 0.9964505635750065 ----- by variable: [0.99983155 0.99814385 0.99992701 0.98789984]\n",
      "MAE test scores ----- AVG= 0.001761226700424696 ----- by variable: [0.00167573 0.00155051 0.00150318 0.00231548]\n"
     ]
    }
   ],
   "source": [
    "mlpReg.fit(xtrain2,ytrain2)\n",
    "ypred=mlpReg.predict(xtest2)\n",
    "\n",
    "print('-------------------------------DNN (six 100 node layers)--------------------------')\n",
    "print('# of Iterations:',mlpReg.n_iter_,'-----','Final Training Loss=',mlpReg.loss_)\n",
    "print('R^2 test scores ----- AVG=',mlpReg.score(xtest2,ytest2),'----- by variable:',r2_score(ytest2,ypred,multioutput='raw_values') )\n",
    "print('MAE test scores ----- AVG=',mean_absolute_error(ytest2,ypred),'----- by variable:',mean_absolute_error(ytest2,ypred,multioutput='raw_values'))"
   ]
  },
  {
   "cell_type": "code",
   "execution_count": 38,
   "id": "bbe8f384",
   "metadata": {},
   "outputs": [
    {
     "name": "stdout",
     "output_type": "stream",
     "text": [
      "----------------------Linear Regressor Results---------------------\n",
      "# features: 7\n",
      "R^2 test scores ----- AVG= 0.9707762797727527 ----- by variable: [0.99998294 0.93033138 0.99980183 0.95298897]\n",
      "MAE test scores ----- AVG= 0.0019435176655494468 ----- by variable: [0.00036586 0.00304804 0.0014645  0.00289566]\n"
     ]
    }
   ],
   "source": [
    "linReg.fit(xtrain2,ytrain2)\n",
    "ypred=linReg.predict(xtest2)\n",
    "\n",
    "print('----------------------Linear Regressor Results---------------------')\n",
    "print('# features:', linReg.rank_,)\n",
    "print('R^2 test scores ----- AVG=',linReg.score(xtest2,ytest2),'----- by variable:',r2_score(ytest2,ypred,multioutput='raw_values'))\n",
    "print('MAE test scores ----- AVG=',mean_absolute_error(ytest2,ypred),'----- by variable:',mean_absolute_error(ytest2,ypred,multioutput='raw_values'))"
   ]
  },
  {
   "cell_type": "code",
   "execution_count": 39,
   "id": "ca31ed71",
   "metadata": {},
   "outputs": [
    {
     "name": "stdout",
     "output_type": "stream",
     "text": [
      "-----------------------------DT Regressor Results--------------------------\n",
      "# features: 7 ----- # outputs: 4\n",
      "R^2 test scores ----- AVG= 0.9964810144456607 ----- by variable: [0.99998309 0.99503701 0.99995011 0.99095384]\n",
      "MAE test scores ----- AVG= 0.0004788738047126591 ----- by variable: [0.0002074  0.00059884 0.00034451 0.00076474]\n"
     ]
    }
   ],
   "source": [
    "dtr.fit(xtrain2,ytrain2)\n",
    "ypred=dtr.predict(xtest2)\n",
    "\n",
    "print('-----------------------------DT Regressor Results--------------------------')\n",
    "print('# features:',dtr.n_features_,'-----','# outputs:',dtr.n_outputs_)\n",
    "print('R^2 test scores ----- AVG=',dtr.score(xtest2,ytest2),'----- by variable:',r2_score(ytest2,ypred,multioutput='raw_values') )\n",
    "print('MAE test scores ----- AVG=',mean_absolute_error(ytest2,ypred),'----- by variable:',mean_absolute_error(ytest2,ypred,multioutput='raw_values'))"
   ]
  },
  {
   "cell_type": "code",
   "execution_count": 15,
   "id": "e1e20ce2",
   "metadata": {},
   "outputs": [
    {
     "name": "stdout",
     "output_type": "stream",
     "text": [
      "2.491729835786887e-05 0.00041271428321975755 0.0 0.020895973256408917\n"
     ]
    }
   ],
   "source": [
    "var='ml_out_qr'\n",
    "col=2\n",
    "\n",
    "print(np.mean(ds[var]), np.std(ds[var]),np.min(ds[var]), np.max((ds[var])))"
   ]
  },
  {
   "cell_type": "code",
   "execution_count": null,
   "id": "c3231a91",
   "metadata": {},
   "outputs": [],
   "source": [
    "#converts data to dict then pandas dataframe\n",
    "#creates colormap of correlation matrix\n",
    "\n",
    "num1=0\n",
    "num2=24000000\n",
    "\n",
    "inputs={ 'theta': ds['ml_in_theta'][num1:num2,1],\n",
    "       'qc': ds['ml_in_qc'][num1:num2,1],\n",
    "       'qv': ds['ml_in_qv'][num1:num2,1],\n",
    "       'qr': ds['ml_in_qr'][num1:num2,1],\n",
    "       'rho_dry': ds['ml_in_rho_dry'][num1:num2,1],\n",
    "       'z': ds['ml_in_z'][num1:num2],\n",
    "       'exner': ds['ml_in_exner'][num1:num2,1],\n",
    "       'theta_out': ds['ml_out_theta'][num1:num2],\n",
    "       'qc_out': ds['ml_out_qc'][num1:num2],\n",
    "       'qv_out': ds['ml_out_qv'][num1:num2],\n",
    "       'qr_out': ds['ml_out_qr'][num1:num2]}\n",
    "\n",
    "df=pd.DataFrame(inputs,columns=['theta','qc','qv','qr','rho_dry','z','exner','theta_out','qc_out','qv_out','qr_out'])\n",
    "\n",
    "plt.figure(figsize=(10,10))\n",
    "sb.heatmap(df.corr(),annot=True, cmap='coolwarm')"
   ]
  },
  {
   "cell_type": "code",
   "execution_count": 9,
   "id": "4782eb26",
   "metadata": {},
   "outputs": [
    {
     "name": "stdout",
     "output_type": "stream",
     "text": [
      "              theta        qc        qv        qr   rho_dry         z  \\\n",
      "theta      1.000000 -0.053497 -0.505912 -0.043525 -0.830402  0.917968   \n",
      "qc        -0.053497  1.000000  0.037600  0.333866  0.042368 -0.051043   \n",
      "qv        -0.505912  0.037600  1.000000  0.046578  0.852126 -0.754595   \n",
      "qr        -0.043525  0.333866  0.046578  1.000000  0.048608 -0.051834   \n",
      "rho_dry   -0.830402  0.042368  0.852126  0.048608  1.000000 -0.981761   \n",
      "z          0.917968 -0.051043 -0.754595 -0.051834 -0.981761  1.000000   \n",
      "exner     -0.895436  0.049731  0.780281  0.051801  0.990237 -0.998527   \n",
      "theta_out  0.999997 -0.051733 -0.505865 -0.042464 -0.830391  0.917952   \n",
      "qc_out    -0.053759  0.962126  0.043958  0.253745  0.045585 -0.053017   \n",
      "qv_out    -0.505792  0.030075  0.999955  0.042369  0.852115 -0.754512   \n",
      "qr_out    -0.044225  0.416287  0.052149  0.971785  0.051632 -0.054208   \n",
      "\n",
      "              exner  theta_out    qc_out    qv_out    qr_out  \n",
      "theta     -0.895436   0.999997 -0.053759 -0.505792 -0.044225  \n",
      "qc         0.049731  -0.051733  0.962126  0.030075  0.416287  \n",
      "qv         0.780281  -0.505865  0.043958  0.999955  0.052149  \n",
      "qr         0.051801  -0.042464  0.253745  0.042369  0.971785  \n",
      "rho_dry    0.990237  -0.830391  0.045585  0.852115  0.051632  \n",
      "z         -0.998527   0.917952 -0.053017 -0.754512 -0.054208  \n",
      "exner      1.000000  -0.895419  0.051963  0.780209  0.054364  \n",
      "theta_out -0.895419   1.000000 -0.052072 -0.505766 -0.042994  \n",
      "qc_out     0.051963  -0.052072  1.000000  0.036691  0.315493  \n",
      "qv_out     0.780209  -0.505766  0.036691  1.000000  0.047165  \n",
      "qr_out     0.054364  -0.042994  0.315493  0.047165  1.000000  \n"
     ]
    }
   ],
   "source": [
    "print(df.corr())"
   ]
  },
  {
   "cell_type": "code",
   "execution_count": 10,
   "id": "28d3f101",
   "metadata": {},
   "outputs": [
    {
     "data": {
      "text/plain": [
       "(array([1.78116311e+03, 1.62930610e+02, 1.23598587e+02, 7.67300796e+01,\n",
       "        3.76161266e+01, 5.62964702e+01, 6.06763074e+01, 1.88421048e+01,\n",
       "        3.29677965e+01, 3.75209127e+01, 2.06460490e+01, 4.68580131e+01,\n",
       "        1.11942824e+01, 1.72326835e+01, 4.69025486e+01, 6.87459374e+00,\n",
       "        1.07351059e+01, 1.69905537e+01, 4.27960673e+01, 3.70822123e+00,\n",
       "        8.77579938e+00, 1.10837115e+01, 1.86396474e+01, 3.51810067e+01,\n",
       "        1.92654481e+00, 4.71999639e+00, 1.03560422e+01, 1.21369508e+01,\n",
       "        2.27778667e+01, 2.42109375e+01, 9.05555406e-01, 1.69106969e+00,\n",
       "        4.47991415e+00, 1.04837618e+01, 1.40660551e+01, 4.46854992e+01,\n",
       "        1.46404096e+00, 9.21680333e-01, 9.63400381e-01, 1.68671852e+00,\n",
       "        9.98004985e+00, 2.74617739e+01, 1.59586096e+02, 2.66388908e+01,\n",
       "        1.21525638e+00, 1.10724496e+00, 8.12645114e-01, 5.97134189e-01,\n",
       "        4.58920532e-01, 1.20041121e-01]),\n",
       " array([7.82831908e-06, 3.33411209e-04, 6.58994098e-04, 9.84576988e-04,\n",
       "        1.31015988e-03, 1.63574277e-03, 1.96132566e-03, 2.28690855e-03,\n",
       "        2.61249143e-03, 2.93807432e-03, 3.26365721e-03, 3.58924010e-03,\n",
       "        3.91482299e-03, 4.24040588e-03, 4.56598877e-03, 4.89157166e-03,\n",
       "        5.21715455e-03, 5.54273744e-03, 5.86832033e-03, 6.19390322e-03,\n",
       "        6.51948611e-03, 6.84506900e-03, 7.17065189e-03, 7.49623478e-03,\n",
       "        7.82181767e-03, 8.14740056e-03, 8.47298345e-03, 8.79856634e-03,\n",
       "        9.12414922e-03, 9.44973211e-03, 9.77531500e-03, 1.01008979e-02,\n",
       "        1.04264808e-02, 1.07520637e-02, 1.10776466e-02, 1.14032295e-02,\n",
       "        1.17288123e-02, 1.20543952e-02, 1.23799781e-02, 1.27055610e-02,\n",
       "        1.30311439e-02, 1.33567268e-02, 1.36823097e-02, 1.40078926e-02,\n",
       "        1.43334755e-02, 1.46590583e-02, 1.49846412e-02, 1.53102241e-02,\n",
       "        1.56358070e-02, 1.59613899e-02, 1.62869728e-02]),\n",
       " <BarContainer object of 50 artists>)"
      ]
     },
     "execution_count": 10,
     "metadata": {},
     "output_type": "execute_result"
    },
    {
     "data": {
      "image/png": "[encoded data removed]",
      "text/plain": [
       "<Figure size 432x288 with 1 Axes>"
      ]
     },
     "metadata": {
      "needs_background": "light"
     },
     "output_type": "display_data"
    }
   ],
   "source": [
    "#used to create histogram for each input\n",
    "plt.hist(ds['ml_out_qv'][0:23999999],bins=50, density=True)"
   ]
  },
  {
   "cell_type": "code",
   "execution_count": 11,
   "id": "f807a724",
   "metadata": {
    "scrolled": true
   },
   "outputs": [
    {
     "data": {
      "text/plain": [
       "<AxesSubplot:xlabel='z', ylabel='qr_out'>"
      ]
     },
     "execution_count": 11,
     "metadata": {},
     "output_type": "execute_result"
    },
    {
     "data": {
      "image/png": "[encoded data removed]",
      "text/plain": [
       "<Figure size 432x288 with 1 Axes>"
      ]
     },
     "metadata": {
      "needs_background": "light"
     },
     "output_type": "display_data"
    }
   ],
   "source": [
    "#used to create scttaer plot for inputs vs height\n",
    "df.plot.scatter(x='z',y='qr_out')"
   ]
  },
  {
   "cell_type": "code",
   "execution_count": 12,
   "id": "9c5b9647",
   "metadata": {},
   "outputs": [
    {
     "name": "stdout",
     "output_type": "stream",
     "text": [
      "% of no-op data: 21.716191666666667 ----- % of op data: 78.28380833333334\n"
     ]
    }
   ],
   "source": [
    "\n",
    "#splits data operation and no operation sets:\n",
    "#no operation data are entries where inputs=outputs\n",
    "#ds['ml_in_theta'][i,1]==ds['ml_out_theta'][i] and ds['ml_in_qv'][i,1]==ds['ml_out_qv'][i] and ds['ml_in_qc'][i,1]==ds['ml_out_qc'][i] and ds['ml_in_qr'][i,1]==ds['ml_out_qr'][i]:\n",
    "\n",
    "\n",
    "\n",
    "opDF= df[(df['theta']!=df['theta_out']) | (df['qv']!=df['qv_out']) | (df['qc']!=df['qc_out']) | (df['qr']!=df['qr_out'])]\n",
    "noOpDF=df[(df['theta']==df['theta_out']) & (df['qv']==df['qv_out']) & (df['qc']==df['qc_out']) & (df['qr']==df['qr_out'])]\n",
    "\n",
    "print('% of no-op data:',len(noOpDF)/len(df)*100,'----- % of op data:', len(opDF)/len(df)*100)\n",
    "\n",
    "opDF=opDF.round(9)\n",
    "noOpDF=noOpDF.round(9)\n",
    "\n"
   ]
  },
  {
   "cell_type": "code",
   "execution_count": 23,
   "id": "747ec087",
   "metadata": {},
   "outputs": [
    {
     "name": "stdout",
     "output_type": "stream",
     "text": [
      "[1.88039341e+02 3.79668700e-03 1.62719870e-02 2.10476940e-02\n",
      " 1.04164544e+00 5.54290557e-01 1.95000000e+04 1.88162028e+02\n",
      " 3.76632800e-03 1.62791450e-02 2.08959730e-02]\n"
     ]
    }
   ],
   "source": [
    "#creates input dataset, so that 10% of the data is no-op data, then normalizes the inputs\n",
    "from sklearn.preprocessing import MinMaxScaler\n",
    "\n",
    "noOp_samples=math.floor(len(opDF)/(.9))\n",
    "dfConcat=opDF.append(noOpDF[0:noOp_samples])\n",
    "\n",
    "scaler=MinMaxScaler(copy=False)\n",
    "dfConcat[['theta','qc','qv','qr','rho_dry','exner','z','theta_out','qc_out','qv_out','qr_out']]=scaler.fit_transform(dfConcat[['theta','qc','qv','qr','rho_dry','exner','z','theta_out','qc_out','qv_out','qr_out']])\n",
    "\n",
    "x=dfConcat[['theta','qc','qv','qr','rho_dry','exner','z']].copy()\n",
    "y=dfConcat[['theta_out','qc_out','qv_out','qr_out']].copy()\n",
    "\n",
    "\n",
    "#normX=(x-x.mean())/x.std()\n",
    "print(scaler.data_range_)"
   ]
  },
  {
   "cell_type": "code",
   "execution_count": 24,
   "id": "eb287448",
   "metadata": {},
   "outputs": [],
   "source": [
    "#split data, create/fit 2 layer neural net\n",
    "\n",
    "from sklearn.neural_network import MLPRegressor\n",
    "from sklearn.model_selection import train_test_split\n",
    "\n",
    "\n",
    "\n",
    "\n",
    "\n"
   ]
  },
  {
   "cell_type": "code",
   "execution_count": 27,
   "id": "6a03356d",
   "metadata": {},
   "outputs": [
    {
     "name": "stdout",
     "output_type": "stream",
     "text": [
      "Iteration 1, loss = 0.01948908\n",
      "Validation score: -0.002441\n",
      "Iteration 2, loss = 0.01745822\n",
      "Validation score: -0.373793\n",
      "Iteration 3, loss = 0.01589416\n",
      "Validation score: -1.169560\n",
      "Iteration 4, loss = 0.01311802\n",
      "Validation score: -1.969158\n",
      "Iteration 5, loss = 0.00974451\n",
      "Validation score: -1.916055\n",
      "Iteration 6, loss = 0.00721680\n",
      "Validation score: -1.150646\n",
      "Iteration 7, loss = 0.00594495\n",
      "Validation score: -0.426499\n",
      "Iteration 8, loss = 0.00543011\n",
      "Validation score: -0.001409\n",
      "Iteration 9, loss = 0.00523207\n",
      "Validation score: 0.203290\n",
      "Iteration 10, loss = 0.00515125\n",
      "Validation score: 0.294001\n",
      "Iteration 11, loss = 0.00511344\n",
      "Validation score: 0.333004\n",
      "Iteration 12, loss = 0.00509190\n",
      "Validation score: 0.349719\n",
      "Iteration 13, loss = 0.00507672\n",
      "Validation score: 0.356986\n",
      "Iteration 14, loss = 0.00506410\n",
      "Validation score: 0.360260\n",
      "Iteration 15, loss = 0.00505256\n",
      "Validation score: 0.361842\n",
      "Iteration 16, loss = 0.00504151\n",
      "Validation score: 0.362697\n",
      "Iteration 17, loss = 0.00503070\n",
      "Validation score: 0.363239\n",
      "Iteration 18, loss = 0.00502004\n",
      "Validation score: 0.363643\n",
      "Iteration 19, loss = 0.00500949\n",
      "Validation score: 0.363985\n",
      "Iteration 20, loss = 0.00499903\n",
      "Validation score: 0.364298\n",
      "Iteration 21, loss = 0.00498866\n",
      "Validation score: 0.364595\n",
      "Iteration 22, loss = 0.00497838\n",
      "Validation score: 0.364884\n",
      "Iteration 23, loss = 0.00496819\n",
      "Validation score: 0.365168\n",
      "Iteration 24, loss = 0.00495810\n",
      "Validation score: 0.365447\n",
      "Iteration 25, loss = 0.00494810\n",
      "Validation score: 0.365722\n",
      "Iteration 26, loss = 0.00493820\n",
      "Validation score: 0.365994\n",
      "Iteration 27, loss = 0.00492840\n",
      "Validation score: 0.366262\n",
      "Iteration 28, loss = 0.00491871\n",
      "Validation score: 0.366527\n",
      "Iteration 29, loss = 0.00490913\n",
      "Validation score: 0.366787\n",
      "Iteration 30, loss = 0.00489965\n",
      "Validation score: 0.367045\n",
      "Iteration 31, loss = 0.00489030\n",
      "Validation score: 0.367299\n",
      "Iteration 32, loss = 0.00488106\n",
      "Validation score: 0.367548\n",
      "Iteration 33, loss = 0.00487193\n",
      "Validation score: 0.367794\n",
      "Iteration 34, loss = 0.00486293\n",
      "Validation score: 0.368037\n",
      "Iteration 35, loss = 0.00485406\n",
      "Validation score: 0.368275\n",
      "Iteration 36, loss = 0.00484531\n",
      "Validation score: 0.368509\n",
      "Iteration 37, loss = 0.00483669\n",
      "Validation score: 0.368741\n",
      "Iteration 38, loss = 0.00482821\n",
      "Validation score: 0.368967\n",
      "Iteration 39, loss = 0.00481986\n",
      "Validation score: 0.369189\n",
      "Iteration 40, loss = 0.00481164\n",
      "Validation score: 0.369409\n",
      "Iteration 41, loss = 0.00480357\n",
      "Validation score: 0.369622\n",
      "Iteration 42, loss = 0.00479563\n",
      "Validation score: 0.369833\n",
      "Iteration 43, loss = 0.00478784\n",
      "Validation score: 0.370040\n",
      "Iteration 44, loss = 0.00478019\n",
      "Validation score: 0.370241\n",
      "Iteration 45, loss = 0.00477269\n",
      "Validation score: 0.370439\n",
      "Iteration 46, loss = 0.00476533\n",
      "Validation score: 0.370633\n",
      "Iteration 47, loss = 0.00475812\n",
      "Validation score: 0.370821\n",
      "Iteration 48, loss = 0.00475107\n",
      "Validation score: 0.371007\n",
      "Iteration 49, loss = 0.00474416\n",
      "Validation score: 0.371188\n",
      "Iteration 50, loss = 0.00473740\n",
      "Validation score: 0.371365\n",
      "Iteration 51, loss = 0.00473079\n",
      "Validation score: 0.371537\n",
      "Iteration 52, loss = 0.00472434\n",
      "Validation score: 0.371705\n",
      "Iteration 53, loss = 0.00471803\n",
      "Validation score: 0.371869\n",
      "Iteration 54, loss = 0.00471188\n",
      "Validation score: 0.372029\n",
      "Iteration 55, loss = 0.00470588\n",
      "Validation score: 0.372185\n",
      "Iteration 56, loss = 0.00470003\n",
      "Validation score: 0.372336\n",
      "Iteration 57, loss = 0.00469433\n",
      "Validation score: 0.372483\n",
      "Iteration 58, loss = 0.00468878\n",
      "Validation score: 0.372627\n",
      "Iteration 59, loss = 0.00468339\n",
      "Validation score: 0.372765\n",
      "Iteration 60, loss = 0.00467814\n",
      "Validation score: 0.372901\n",
      "Iteration 61, loss = 0.00467304\n",
      "Validation score: 0.373031\n",
      "Iteration 62, loss = 0.00466808\n",
      "Validation score: 0.373157\n",
      "Iteration 63, loss = 0.00466327\n",
      "Validation score: 0.373282\n",
      "Iteration 64, loss = 0.00465860\n",
      "Validation score: 0.373400\n",
      "Iteration 65, loss = 0.00465408\n",
      "Validation score: 0.373517\n",
      "Iteration 66, loss = 0.00464969\n",
      "Validation score: 0.373629\n",
      "Iteration 67, loss = 0.00464544\n",
      "Validation score: 0.373737\n",
      "Iteration 68, loss = 0.00464133\n",
      "Validation score: 0.373841\n",
      "Iteration 69, loss = 0.00463736\n",
      "Validation score: 0.373942\n",
      "Iteration 70, loss = 0.00463351\n",
      "Validation score: 0.374040\n",
      "Iteration 71, loss = 0.00462980\n",
      "Validation score: 0.374134\n",
      "Iteration 72, loss = 0.00462621\n",
      "Validation score: 0.374225\n",
      "Iteration 73, loss = 0.00462274\n",
      "Validation score: 0.374313\n",
      "Iteration 74, loss = 0.00461940\n",
      "Validation score: 0.374396\n",
      "Iteration 75, loss = 0.00461618\n",
      "Validation score: 0.374478\n",
      "Iteration 76, loss = 0.00461308\n",
      "Validation score: 0.374556\n",
      "Iteration 77, loss = 0.00461008\n",
      "Validation score: 0.374631\n",
      "Iteration 78, loss = 0.00460721\n",
      "Validation score: 0.374703\n",
      "Iteration 79, loss = 0.00460444\n",
      "Validation score: 0.374772\n",
      "Iteration 80, loss = 0.00460177\n",
      "Validation score: 0.374839\n",
      "Validation score did not improve more than tol=0.000100 for 10 consecutive epochs. Setting learning rate to 0.000020\n",
      "Iteration 81, loss = 0.00460021\n",
      "Validation score: 0.374852\n",
      "Iteration 82, loss = 0.00459971\n",
      "Validation score: 0.374865\n",
      "Iteration 83, loss = 0.00459920\n",
      "Validation score: 0.374878\n",
      "Iteration 84, loss = 0.00459870\n",
      "Validation score: 0.374890\n",
      "Iteration 85, loss = 0.00459821\n",
      "Validation score: 0.374903\n",
      "Iteration 86, loss = 0.00459771\n",
      "Validation score: 0.374916\n",
      "Iteration 87, loss = 0.00459723\n",
      "Validation score: 0.374928\n",
      "Iteration 88, loss = 0.00459674\n",
      "Validation score: 0.374940\n",
      "Iteration 89, loss = 0.00459626\n",
      "Validation score: 0.374952\n",
      "Iteration 90, loss = 0.00459579\n",
      "Validation score: 0.374965\n",
      "Iteration 91, loss = 0.00459531\n",
      "Validation score: 0.374976\n",
      "Validation score did not improve more than tol=0.000100 for 10 consecutive epochs. Setting learning rate to 0.000004\n",
      "Iteration 92, loss = 0.00459503\n",
      "Validation score: 0.374979\n",
      "Iteration 93, loss = 0.00459494\n",
      "Validation score: 0.374981\n",
      "Iteration 94, loss = 0.00459484\n",
      "Validation score: 0.374984\n",
      "Iteration 95, loss = 0.00459475\n",
      "Validation score: 0.374986\n",
      "Iteration 96, loss = 0.00459466\n",
      "Validation score: 0.374988\n",
      "Iteration 97, loss = 0.00459457\n",
      "Validation score: 0.374991\n",
      "Iteration 98, loss = 0.00459447\n",
      "Validation score: 0.374993\n",
      "Iteration 99, loss = 0.00459438\n",
      "Validation score: 0.374995\n",
      "Iteration 100, loss = 0.00459429\n",
      "Validation score: 0.374998\n",
      "Iteration 101, loss = 0.00459419\n",
      "Validation score: 0.375000\n",
      "Iteration 102, loss = 0.00459410\n",
      "Validation score: 0.375002\n",
      "Validation score did not improve more than tol=0.000100 for 10 consecutive epochs. Setting learning rate to 0.000001\n",
      "Iteration 103, loss = 0.00459405\n",
      "Validation score: 0.375003\n",
      "Iteration 104, loss = 0.00459403\n",
      "Validation score: 0.375003\n",
      "Iteration 105, loss = 0.00459401\n",
      "Validation score: 0.375004\n",
      "Iteration 106, loss = 0.00459399\n",
      "Validation score: 0.375004\n",
      "Iteration 107, loss = 0.00459397\n",
      "Validation score: 0.375005\n",
      "Iteration 108, loss = 0.00459396\n",
      "Validation score: 0.375005\n",
      "Iteration 109, loss = 0.00459394\n",
      "Validation score: 0.375006\n",
      "Iteration 110, loss = 0.00459392\n",
      "Validation score: 0.375006\n",
      "Iteration 111, loss = 0.00459390\n",
      "Validation score: 0.375007\n",
      "Iteration 112, loss = 0.00459388\n",
      "Validation score: 0.375007\n",
      "Iteration 113, loss = 0.00459386\n",
      "Validation score: 0.375008\n",
      "Validation score did not improve more than tol=0.000100 for 10 consecutive epochs. Learning rate too small. Stopping.\n"
     ]
    },
    {
     "data": {
      "text/plain": [
       "MLPRegressor(activation='logistic', batch_size=1000, early_stopping=True,\n",
       "             hidden_layer_sizes=[1], learning_rate='adaptive',\n",
       "             learning_rate_init=0.0001, max_iter=250, solver='sgd',\n",
       "             verbose=True)"
      ]
     },
     "execution_count": 27,
     "metadata": {},
     "output_type": "execute_result"
    }
   ],
   "source": [
    "reg=MLPRegressor(hidden_layer_sizes=[1],activation='logistic', solver='sgd',learning_rate_init=1e-4,learning_rate='adaptive', batch_size=1000, max_iter=250, early_stopping=True, verbose=True)\n",
    "reg.fit(xtrain,ytrain)\n"
   ]
  },
  {
   "cell_type": "code",
   "execution_count": 28,
   "id": "352c60bf",
   "metadata": {},
   "outputs": [
    {
     "name": "stdout",
     "output_type": "stream",
     "text": [
      "# of Iterations: 113 ----- Final Training Loss= 0.004593863497962106\n",
      "R^2 test scores ----- AVG= 0.37497788123747144 ----- by variable: [0.80224781 0.00199109 0.69354398 0.00212864]\n"
     ]
    },
    {
     "data": {
      "image/png": "[encoded data removed]",
      "text/plain": [
       "<Figure size 432x288 with 1 Axes>"
      ]
     },
     "metadata": {
      "needs_background": "light"
     },
     "output_type": "display_data"
    }
   ],
   "source": [
    "from sklearn.metrics import r2_score\n",
    "\n",
    "ypred=reg.predict(xtest)\n",
    "plt.plot(reg.loss_curve_)\n",
    "\n",
    "print('# of Iterations:',reg.n_iter_,'-----','Final Training Loss=',reg.loss_)\n",
    "print('R^2 test scores ----- AVG=',reg.score(xtest,ytest),'----- by variable:',r2_score(ytest,ypred,multioutput='raw_values') )\n"
   ]
  },
  {
   "cell_type": "code",
   "execution_count": null,
   "id": "c7501253",
   "metadata": {},
   "outputs": [],
   "source": []
  },
  {
   "cell_type": "code",
   "execution_count": 29,
   "id": "858c014d",
   "metadata": {},
   "outputs": [
    {
     "data": {
      "text/plain": [
       "DecisionTreeRegressor(random_state=0)"
      ]
     },
     "execution_count": 29,
     "metadata": {},
     "output_type": "execute_result"
    }
   ],
   "source": [
    "from sklearn.tree import DecisionTreeRegressor\n",
    "from sklearn.ensemble import RandomForestRegressor\n",
    "from sklearn.metrics import r2_score\n",
    "\n",
    "regTree= DecisionTreeRegressor(random_state=0, criterion='mse')\n",
    "regTree.fit(xtrain,ytrain)\n",
    "\n"
   ]
  },
  {
   "cell_type": "code",
   "execution_count": 30,
   "id": "05955e52",
   "metadata": {},
   "outputs": [
    {
     "data": {
      "text/plain": [
       "RandomForestRegressor(n_estimators=10, random_state=0)"
      ]
     },
     "execution_count": 30,
     "metadata": {},
     "output_type": "execute_result"
    }
   ],
   "source": [
    "regRF= RandomForestRegressor(random_state=0, n_estimators=10)\n",
    "regRF.fit(xtrain,ytrain)\n"
   ]
  },
  {
   "cell_type": "code",
   "execution_count": 31,
   "id": "6e57e940",
   "metadata": {},
   "outputs": [
    {
     "name": "stdout",
     "output_type": "stream",
     "text": [
      "-----------------------------DT Regressor Results--------------------------\n",
      "# features: 7 ----- # outputs: 4\n",
      "R^2 test scores ----- AVG= 0.9983830203044269 ----- by variable: [0.99999956 0.99789049 0.9999981  0.99564394]\n",
      "-----------------------------Random Forrest Results------------------------\n",
      "# features: 7 ----- # outputs: 4\n",
      "R^2 test scores ----- AVG= 0.9987573438665126 ----- by variable: [0.99999975 0.99859625 0.99999894 0.99643443]\n"
     ]
    }
   ],
   "source": [
    "\n",
    "ypredTree=regTree.predict(xtest)\n",
    "ypredRF=regRF.predict(xtest)\n",
    "\n",
    "print('-----------------------------DT Regressor Results--------------------------')\n",
    "print('# features:',regTree.n_features_,'-----','# outputs:',regTree.n_outputs_)\n",
    "print('R^2 test scores ----- AVG=',regTree.score(xtest,ytest),'----- by variable:',r2_score(ytest,ypredTree,multioutput='raw_values') )\n",
    "\n",
    "\n",
    "print('-----------------------------Random Forrest Results------------------------')\n",
    "print('# features:',regRF.n_features_,'-----','# outputs:',regRF.n_outputs_)\n",
    "print('R^2 test scores ----- AVG=',regRF.score(xtest,ytest),'----- by variable:',r2_score(ytest,ypredRF,multioutput='raw_values') )\n"
   ]
  },
  {
   "cell_type": "code",
   "execution_count": 32,
   "id": "7b91c668",
   "metadata": {},
   "outputs": [
    {
     "name": "stdout",
     "output_type": "stream",
     "text": [
      "# features: 7\n",
      "R^2 test scores ----- AVG= 0.9712993442698682 ----- by variable: [0.99999834 0.93172964 0.99996965 0.95349974]\n"
     ]
    }
   ],
   "source": [
    "from sklearn.linear_model import LinearRegression\n",
    "\n",
    "lrReg=LinearRegression().fit(xtrain,ytrain)\n",
    "lrReg.score(xtest,ytest)\n",
    "\n",
    "ypredLR=lrReg.predict(xtest)\n",
    "print('# features:', lrReg.rank_,)\n",
    "print('R^2 test scores ----- AVG=',lrReg.score(xtest,ytest),'----- by variable:',r2_score(ytest,ypredLR,multioutput='raw_values') )"
   ]
  },
  {
   "cell_type": "code",
   "execution_count": 33,
   "id": "8e9f23bb",
   "metadata": {},
   "outputs": [
    {
     "data": {
      "text/plain": [
       "array([[ 1.00002602e+00,  2.33198821e-02,  4.11387821e-04,\n",
       "         7.51601947e-03, -2.55872626e-03,  9.55385978e-04,\n",
       "        -1.79917016e-03],\n",
       "       [ 2.41779745e-03,  1.00022728e+00,  6.41949065e-03,\n",
       "        -7.62205924e-02, -3.98924411e-02,  6.97949824e-02,\n",
       "         3.34179763e-02],\n",
       "       [-2.81146158e-03, -9.32488445e-02,  9.97716136e-01,\n",
       "        -2.48423551e-02,  1.14685239e-02, -5.85070077e-03,\n",
       "         6.31368150e-03],\n",
       "       [ 1.55071922e-03,  1.09577796e-01, -2.17186871e-03,\n",
       "         9.45724663e-01,  2.20916777e-02, -5.87919546e-02,\n",
       "        -4.06680968e-02]])"
      ]
     },
     "execution_count": 33,
     "metadata": {},
     "output_type": "execute_result"
    }
   ],
   "source": [
    "lrReg.coef_"
   ]
  },
  {
   "cell_type": "code",
   "execution_count": 34,
   "id": "f2788295",
   "metadata": {},
   "outputs": [
    {
     "name": "stdout",
     "output_type": "stream",
     "text": [
      "      Iter       Train Loss   Remaining Time \n",
      "         1           0.0637            5.56m\n",
      "         2           0.0518            4.95m\n",
      "         3           0.0421            4.34m\n",
      "         4           0.0342            3.73m\n",
      "         5           0.0278            3.13m\n",
      "         6           0.0226            2.51m\n",
      "         7           0.0184            1.89m\n",
      "         8           0.0149            1.26m\n",
      "         9           0.0121           37.67s\n",
      "        10           0.0099            0.00s\n",
      "      Iter       Train Loss   Remaining Time \n",
      "         1           0.0003            6.00m\n",
      "         2           0.0003            5.23m\n",
      "         3           0.0002            4.55m\n",
      "         4           0.0002            3.97m\n",
      "         5           0.0001            3.31m\n",
      "         6           0.0001            2.63m\n",
      "         7           0.0001            1.98m\n",
      "         8           0.0001            1.33m\n",
      "         9           0.0001           39.90s\n",
      "        10           0.0001            0.00s\n",
      "      Iter       Train Loss   Remaining Time \n",
      "         1           0.0542            5.69m\n",
      "         2           0.0440            4.96m\n",
      "         3           0.0357            4.29m\n",
      "         4           0.0289            3.70m\n",
      "         5           0.0235            3.09m\n",
      "         6           0.0190            2.49m\n",
      "         7           0.0154            1.87m\n",
      "         8           0.0125            1.24m\n",
      "         9           0.0102           37.44s\n",
      "        10           0.0083            0.00s\n",
      "      Iter       Train Loss   Remaining Time \n",
      "         1           0.0003            5.82m\n",
      "         2           0.0003            5.26m\n",
      "         3           0.0002            4.64m\n",
      "         4           0.0002            3.91m\n",
      "         5           0.0002            3.32m\n",
      "         6           0.0001            2.65m\n",
      "         7           0.0001            1.98m\n",
      "         8           0.0001            1.32m\n",
      "         9           0.0001           39.27s\n",
      "        10           0.0001            0.00s\n",
      "R^2 test scores ----- AVG= 0.8535019270358145 ----- by variable: [0.87443573 0.82877777 0.87657026 0.83422394]\n"
     ]
    }
   ],
   "source": [
    "from sklearn.ensemble import GradientBoostingRegressor\n",
    "from sklearn.multioutput import MultiOutputRegressor\n",
    "\n",
    "GBreg=MultiOutputRegressor(GradientBoostingRegressor(n_estimators=10, verbose=1))\n",
    "GBreg.fit(xtrain,ytrain)\n",
    "\n",
    "ypredGB=GBreg.predict(xtest)\n",
    "\n",
    "print('R^2 test scores ----- AVG=',GBreg.score(xtest,ytest),'----- by variable:',r2_score(ytest,ypredGB,multioutput='raw_values') )\n"
   ]
  },
  {
   "cell_type": "code",
   "execution_count": 35,
   "id": "832335d7",
   "metadata": {},
   "outputs": [],
   "source": [
    "from sklearn.linear_model import Ridge\n",
    "\n",
    "ridgeReg=Ridge(solver='saga').fit(xtrain,ytrain)\n"
   ]
  },
  {
   "cell_type": "code",
   "execution_count": 36,
   "id": "15c6e6a2",
   "metadata": {},
   "outputs": [
    {
     "name": "stdout",
     "output_type": "stream",
     "text": [
      "R^2 test scores ----- AVG= 0.971298627533584 ----- by variable: [0.99999834 0.93172444 0.99996965 0.95350208]\n"
     ]
    }
   ],
   "source": [
    "ypredRidge=ridgeReg.predict(xtest)\n",
    "\n",
    "print('R^2 test scores ----- AVG=',ridgeReg.score(xtest,ytest),'----- by variable:',r2_score(ytest,ypredRidge,multioutput='raw_values') )"
   ]
  },
  {
   "cell_type": "code",
   "execution_count": 37,
   "id": "ffc9d255",
   "metadata": {},
   "outputs": [
    {
     "name": "stdout",
     "output_type": "stream",
     "text": [
      "# iterations: [4, 4] ----- # features used: 7\n",
      "R^2 test scores ----- AVG= 0.49178849279006115 ----- by variable: [0.97855259 0.00284545 0.98266296 0.00309296]\n"
     ]
    }
   ],
   "source": [
    "from sklearn.cross_decomposition import PLSRegression\n",
    "\n",
    "plsReg=PLSRegression(scale=False, copy=False).fit(xtrain,ytrain)\n",
    "ypredpls=plsReg.predict(xtest)\n",
    "\n",
    "print('# iterations:', plsReg.n_iter_,'----- # features used:', plsReg.n_features_in_)\n",
    "print('R^2 test scores ----- AVG=',plsReg.score(xtest,ytest),'----- by variable:',r2_score(ytest,ypredpls,multioutput='raw_values') )"
   ]
  },
  {
   "cell_type": "code",
   "execution_count": 38,
   "id": "c833acad",
   "metadata": {},
   "outputs": [
    {
     "name": "stdout",
     "output_type": "stream",
     "text": [
      "------------------Mean Abs. Error Results------------------------\n",
      "\n"
     ]
    }
   ],
   "source": [
    "\n",
    "\n",
    "print('------------------Mean Abs. Error Results------------------------')\n",
    "print('')"
   ]
  },
  {
   "cell_type": "code",
   "execution_count": 23,
   "id": "a2b675fb",
   "metadata": {},
   "outputs": [
    {
     "name": "stdout",
     "output_type": "stream",
     "text": [
      "19440000\n",
      "1944000\n",
      "17496000\n",
      "op/no-op ratio= 0.07632925216956074\n"
     ]
    },
    {
     "data": {
      "text/html": [
       "<div>\n",
       "<style scoped>\n",
       "    .dataframe tbody tr th:only-of-type {\n",
       "        vertical-align: middle;\n",
       "    }\n",
       "\n",
       "    .dataframe tbody tr th {\n",
       "        vertical-align: top;\n",
       "    }\n",
       "\n",
       "    .dataframe thead th {\n",
       "        text-align: right;\n",
       "    }\n",
       "</style>\n",
       "<table border=\"1\" class=\"dataframe\">\n",
       "  <thead>\n",
       "    <tr style=\"text-align: right;\">\n",
       "      <th></th>\n",
       "      <th>theta</th>\n",
       "      <th>qc</th>\n",
       "      <th>qv</th>\n",
       "      <th>qr</th>\n",
       "      <th>rho_dry</th>\n",
       "      <th>z</th>\n",
       "      <th>exner</th>\n",
       "      <th>theta_out</th>\n",
       "      <th>qc_out</th>\n",
       "      <th>qv_out</th>\n",
       "      <th>qr_out</th>\n",
       "      <th>operation</th>\n",
       "    </tr>\n",
       "  </thead>\n",
       "  <tbody>\n",
       "    <tr>\n",
       "      <th>0</th>\n",
       "      <td>0.029502</td>\n",
       "      <td>0.0</td>\n",
       "      <td>0.859893</td>\n",
       "      <td>0.0</td>\n",
       "      <td>0.977363</td>\n",
       "      <td>0.0</td>\n",
       "      <td>0.996994</td>\n",
       "      <td>0.030135</td>\n",
       "      <td>0.0</td>\n",
       "      <td>0.859515</td>\n",
       "      <td>0.0</td>\n",
       "      <td>False</td>\n",
       "    </tr>\n",
       "    <tr>\n",
       "      <th>1</th>\n",
       "      <td>0.029502</td>\n",
       "      <td>0.0</td>\n",
       "      <td>0.859893</td>\n",
       "      <td>0.0</td>\n",
       "      <td>0.977363</td>\n",
       "      <td>0.0</td>\n",
       "      <td>0.996994</td>\n",
       "      <td>0.030135</td>\n",
       "      <td>0.0</td>\n",
       "      <td>0.859515</td>\n",
       "      <td>0.0</td>\n",
       "      <td>False</td>\n",
       "    </tr>\n",
       "    <tr>\n",
       "      <th>2</th>\n",
       "      <td>0.029502</td>\n",
       "      <td>0.0</td>\n",
       "      <td>0.859893</td>\n",
       "      <td>0.0</td>\n",
       "      <td>0.977363</td>\n",
       "      <td>0.0</td>\n",
       "      <td>0.996994</td>\n",
       "      <td>0.030135</td>\n",
       "      <td>0.0</td>\n",
       "      <td>0.859515</td>\n",
       "      <td>0.0</td>\n",
       "      <td>False</td>\n",
       "    </tr>\n",
       "    <tr>\n",
       "      <th>4</th>\n",
       "      <td>0.029502</td>\n",
       "      <td>0.0</td>\n",
       "      <td>0.859893</td>\n",
       "      <td>0.0</td>\n",
       "      <td>0.977363</td>\n",
       "      <td>0.0</td>\n",
       "      <td>0.996994</td>\n",
       "      <td>0.030135</td>\n",
       "      <td>0.0</td>\n",
       "      <td>0.859515</td>\n",
       "      <td>0.0</td>\n",
       "      <td>False</td>\n",
       "    </tr>\n",
       "    <tr>\n",
       "      <th>5</th>\n",
       "      <td>0.029502</td>\n",
       "      <td>0.0</td>\n",
       "      <td>0.859893</td>\n",
       "      <td>0.0</td>\n",
       "      <td>0.977363</td>\n",
       "      <td>0.0</td>\n",
       "      <td>0.996994</td>\n",
       "      <td>0.030135</td>\n",
       "      <td>0.0</td>\n",
       "      <td>0.859515</td>\n",
       "      <td>0.0</td>\n",
       "      <td>False</td>\n",
       "    </tr>\n",
       "  </tbody>\n",
       "</table>\n",
       "</div>"
      ],
      "text/plain": [
       "      theta   qc        qv   qr   rho_dry    z     exner  theta_out  qc_out  \\\n",
       "0  0.029502  0.0  0.859893  0.0  0.977363  0.0  0.996994   0.030135     0.0   \n",
       "1  0.029502  0.0  0.859893  0.0  0.977363  0.0  0.996994   0.030135     0.0   \n",
       "2  0.029502  0.0  0.859893  0.0  0.977363  0.0  0.996994   0.030135     0.0   \n",
       "4  0.029502  0.0  0.859893  0.0  0.977363  0.0  0.996994   0.030135     0.0   \n",
       "5  0.029502  0.0  0.859893  0.0  0.977363  0.0  0.996994   0.030135     0.0   \n",
       "\n",
       "     qv_out  qr_out  operation  \n",
       "0  0.859515     0.0      False  \n",
       "1  0.859515     0.0      False  \n",
       "2  0.859515     0.0      False  \n",
       "4  0.859515     0.0      False  \n",
       "5  0.859515     0.0      False  "
      ]
     },
     "execution_count": 23,
     "metadata": {},
     "output_type": "execute_result"
    }
   ],
   "source": [
    "#Removing 10% of samples at beginning\n",
    "#Triaining and testing classifiers w/o altering op/no-op ratio\n",
    "#Training and testing regressors w/ 90% op data\n",
    "#Testing both networks on removed 10% by feeding data through\n",
    "#classifier and feeding labeled op samples to regressor\n",
    "\n",
    "scaler=MinMaxScaler(copy=False)\n",
    "\n",
    "df[['theta','qc','qv','qr','rho_dry','exner','z','theta_out','qc_out','qv_out','qr_out']]=scaler.fit_transform(df[['theta','qc','qv','qr','rho_dry','exner','z','theta_out','qc_out','qv_out','qr_out']])\n",
    "\n",
    "print(len(df))\n",
    "valid=df.sample(int(np.floor(0.1*len(df))))\n",
    "print(len(valid))\n",
    "df=df.drop(valid.index)\n",
    "print(len(df))\n",
    "\n",
    "opDF=df[(df['operation']==True)]\n",
    "nopDF=df[(df['operation']!=True)]\n",
    "\n",
    "\n",
    "\n",
    "#DF to control ratio of op/no-op data for training\n",
    "#'nopPer' is the number of no-op samples to use for every op sample\n",
    "#nopPer=1\n",
    "#mixDF=opDF.copy()\n",
    "#mixDF=mixDF.append(nopDF.sample(nopPer*len(opDF)))\n",
    "print('op/no-op ratio=',len(df[df['operation']==True])/len(df[df['operation']==False]))\n",
    "\n",
    "x1=df[['theta','qc','qv','qr','rho_dry','exner','z']].copy()\n",
    "y1=df[['operation']]\n",
    "\n",
    "xtrain1, xtest1, ytrain1, ytest1 = train_test_split(x1, y1, test_size=0.30, random_state=23)\n",
    "\n",
    "df.head()"
   ]
  },
  {
   "cell_type": "code",
   "execution_count": 24,
   "id": "ac31e13a",
   "metadata": {},
   "outputs": [],
   "source": [
    "stopTol=1e-5\n",
    "dtc=DecisionTreeClassifier(min_samples_split=20,random_state=0)\n",
    "dnn100=MLPClassifier(hidden_layer_sizes=[100,100,100,100,100,100],tol=stopTol,early_stopping=True,verbose=True)\n",
    "dnn64=MLPClassifier(hidden_layer_sizes=[64,64,64,64,64,64,64,64,64,64],tol=stopTol,early_stopping=True,verbose=True)"
   ]
  },
  {
   "cell_type": "code",
   "execution_count": 25,
   "id": "1f30f383",
   "metadata": {},
   "outputs": [
    {
     "name": "stdout",
     "output_type": "stream",
     "text": [
      "accuracy score= 0.9712048468221308\n"
     ]
    },
    {
     "data": {
      "text/plain": [
       "<sklearn.metrics._plot.confusion_matrix.ConfusionMatrixDisplay at 0x7fdc6894a0d0>"
      ]
     },
     "execution_count": 25,
     "metadata": {},
     "output_type": "execute_result"
    },
    {
     "data": {
      "image/png": "[encoded data removed]",
      "text/plain": [
       "<Figure size 432x288 with 2 Axes>"
      ]
     },
     "metadata": {
      "needs_background": "light"
     },
     "output_type": "display_data"
    }
   ],
   "source": [
    "dtc.fit(xtrain1,ytrain1)\n",
    "print('accuracy score=',dtc.score(xtest1,ytest1))\n",
    "plot_confusion_matrix(dtc,xtest1,ytest1,normalize='all')"
   ]
  },
  {
   "cell_type": "code",
   "execution_count": 26,
   "id": "449ff999",
   "metadata": {},
   "outputs": [
    {
     "name": "stderr",
     "output_type": "stream",
     "text": [
      "/ccs/home/zaneb/miniconda3/envs/py38/lib/python3.8/site-packages/sklearn/utils/validation.py:63: DataConversionWarning: A column-vector y was passed when a 1d array was expected. Please change the shape of y to (n_samples, ), for example using ravel().\n",
      "  return f(*args, **kwargs)\n"
     ]
    },
    {
     "name": "stdout",
     "output_type": "stream",
     "text": [
      "Iteration 1, loss = 0.18304104\n",
      "Validation score: 0.949492\n",
      "Iteration 2, loss = 0.17289117\n",
      "Validation score: 0.955477\n",
      "Iteration 3, loss = 0.15827686\n",
      "Validation score: 0.954172\n",
      "Iteration 4, loss = 0.14609359\n",
      "Validation score: 0.958141\n",
      "Iteration 5, loss = 0.14095980\n",
      "Validation score: 0.957887\n",
      "Iteration 6, loss = 0.13812010\n",
      "Validation score: 0.959030\n",
      "Iteration 7, loss = 0.13713896\n",
      "Validation score: 0.959757\n",
      "Iteration 8, loss = 0.13586580\n",
      "Validation score: 0.958185\n",
      "Iteration 9, loss = 0.13484864\n",
      "Validation score: 0.961262\n",
      "Iteration 10, loss = 0.13368510\n",
      "Validation score: 0.959901\n",
      "Iteration 11, loss = 0.13337430\n",
      "Validation score: 0.960553\n",
      "Iteration 12, loss = 0.13240106\n",
      "Validation score: 0.961480\n",
      "Iteration 13, loss = 0.13204754\n",
      "Validation score: 0.960435\n",
      "Iteration 14, loss = 0.13204015\n",
      "Validation score: 0.960437\n",
      "Iteration 15, loss = 0.13129263\n",
      "Validation score: 0.961049\n",
      "Iteration 16, loss = 0.13073795\n",
      "Validation score: 0.958405\n",
      "Iteration 17, loss = 0.13070506\n",
      "Validation score: 0.960272\n",
      "Iteration 18, loss = 0.13045604\n",
      "Validation score: 0.961667\n",
      "Iteration 19, loss = 0.13048074\n",
      "Validation score: 0.961942\n",
      "Iteration 20, loss = 0.13046155\n",
      "Validation score: 0.961350\n",
      "Iteration 21, loss = 0.12954536\n",
      "Validation score: 0.959207\n",
      "Iteration 22, loss = 0.13011553\n",
      "Validation score: 0.960175\n",
      "Iteration 23, loss = 0.12897479\n",
      "Validation score: 0.960664\n",
      "Iteration 24, loss = 0.12930946\n",
      "Validation score: 0.962337\n",
      "Iteration 25, loss = 0.12955978\n",
      "Validation score: 0.961492\n",
      "Iteration 26, loss = 0.12870954\n",
      "Validation score: 0.960823\n",
      "Iteration 27, loss = 0.12964714\n",
      "Validation score: 0.962375\n",
      "Iteration 28, loss = 0.12895253\n",
      "Validation score: 0.961216\n",
      "Iteration 29, loss = 0.12823761\n",
      "Validation score: 0.961484\n",
      "Iteration 30, loss = 0.12795783\n",
      "Validation score: 0.962507\n",
      "Iteration 31, loss = 0.12931094\n",
      "Validation score: 0.962588\n",
      "Iteration 32, loss = 0.12764160\n",
      "Validation score: 0.958769\n",
      "Iteration 33, loss = 0.12854724\n",
      "Validation score: 0.961336\n",
      "Iteration 34, loss = 0.12803776\n",
      "Validation score: 0.962341\n",
      "Iteration 35, loss = 0.12726907\n",
      "Validation score: 0.958529\n",
      "Iteration 36, loss = 0.12781574\n",
      "Validation score: 0.963198\n",
      "Iteration 37, loss = 0.12731880\n",
      "Validation score: 0.962241\n",
      "Iteration 38, loss = 0.12767781\n",
      "Validation score: 0.962045\n",
      "Iteration 39, loss = 0.12729927\n",
      "Validation score: 0.962493\n",
      "Iteration 40, loss = 0.12739128\n",
      "Validation score: 0.962517\n",
      "Iteration 41, loss = 0.12717181\n",
      "Validation score: 0.962457\n",
      "Iteration 42, loss = 0.12709479\n",
      "Validation score: 0.962716\n",
      "Iteration 43, loss = 0.12692071\n",
      "Validation score: 0.962555\n",
      "Iteration 44, loss = 0.12686855\n",
      "Validation score: 0.962229\n",
      "Iteration 45, loss = 0.12653960\n",
      "Validation score: 0.961977\n",
      "Iteration 46, loss = 0.12689886\n",
      "Validation score: 0.960580\n",
      "Iteration 47, loss = 0.12782169\n",
      "Validation score: 0.961853\n",
      "Validation score did not improve more than tol=0.000010 for 10 consecutive epochs. Stopping.\n",
      "accuracy score= 0.9630117360158512\n"
     ]
    },
    {
     "data": {
      "text/plain": [
       "<sklearn.metrics._plot.confusion_matrix.ConfusionMatrixDisplay at 0x7fe0dd911bb0>"
      ]
     },
     "execution_count": 26,
     "metadata": {},
     "output_type": "execute_result"
    },
    {
     "data": {
      "image/png": "[encoded data removed]",
      "text/plain": [
       "<Figure size 432x288 with 2 Axes>"
      ]
     },
     "metadata": {
      "needs_background": "light"
     },
     "output_type": "display_data"
    }
   ],
   "source": [
    "dnn100.fit(xtrain1,ytrain1)\n",
    "print('accuracy score=',dnn100.score(xtest1,ytest1))\n",
    "plot_confusion_matrix(dnn100,xtest1,ytest1,normalize='all')"
   ]
  },
  {
   "cell_type": "code",
   "execution_count": null,
   "id": "fe01d4f4",
   "metadata": {},
   "outputs": [
    {
     "name": "stderr",
     "output_type": "stream",
     "text": [
      "/ccs/home/zaneb/miniconda3/envs/py38/lib/python3.8/site-packages/sklearn/utils/validation.py:63: DataConversionWarning: A column-vector y was passed when a 1d array was expected. Please change the shape of y to (n_samples, ), for example using ravel().\n",
      "  return f(*args, **kwargs)\n"
     ]
    },
    {
     "name": "stdout",
     "output_type": "stream",
     "text": [
      "Iteration 1, loss = 0.17734510\n",
      "Validation score: 0.948855\n",
      "Iteration 2, loss = 0.17257867\n",
      "Validation score: 0.953600\n",
      "Iteration 3, loss = 0.16173109\n",
      "Validation score: 0.956516\n",
      "Iteration 4, loss = 0.15307117\n",
      "Validation score: 0.957548\n",
      "Iteration 5, loss = 0.15228331\n",
      "Validation score: 0.957998\n",
      "Iteration 6, loss = 0.14581291\n",
      "Validation score: 0.959045\n",
      "Iteration 7, loss = 0.14165946\n",
      "Validation score: 0.959808\n",
      "Iteration 8, loss = 0.14098013\n",
      "Validation score: 0.959051\n"
     ]
    }
   ],
   "source": [
    "dnn64.fit(xtrain1,ytrain1)\n",
    "print('accuracy score=',dnn64.score(xtest1,ytest1))\n",
    "plot_confusion_matrix(dnn64,xtest1,ytest1,normalize='all')"
   ]
  },
  {
   "cell_type": "code",
   "execution_count": null,
   "id": "225dc802",
   "metadata": {},
   "outputs": [],
   "source": [
    "mixdf=opDF.copy()\n",
    "mixDF=mixDF.append(nopDF.sample(int(np.floor(.1*len(opDF)))))\n",
    "print('op/no-op ratio=',len(mixDF[mixDF['operation']==True])/len(mixDF[mixDF['operation']==False]))\n",
    "\n",
    "x1=mixDF[['theta','qc','qv','qr','rho_dry','exner','z']].copy()\n",
    "y1=mixDF[['theta_out','qc_out','qv_out','qr_out']].copy()\n",
    "\n",
    "xtrain2, xtest2, ytrain2, ytest2 = train_test_split(x1, y1, test_size=0.30, random_state=23)"
   ]
  },
  {
   "cell_type": "code",
   "execution_count": null,
   "id": "e40c6d06",
   "metadata": {},
   "outputs": [],
   "source": [
    "from sklearn.tree import DecisionTreeRegressor\n",
    "from sklearn.neural_network import MLPRegressor\n",
    "\n",
    "dtr1= DecisionTreeRegressor(random_state=0, criterion='mse')\n",
    "dtr2= DecisionTreeRegressor(random_state=0, criterion='mae')\n",
    "reg100=MLPRegressor(hidden_layer_sizes=[100,100,100,100,100,100], early_stopping=True, verbose=True)\n",
    "reg64=reg=MLPRegressor(hidden_layer_sizes=[64,64,64,64,64,64,64,64,64,64], early_stopping=True, verbose=True)"
   ]
  },
  {
   "cell_type": "code",
   "execution_count": null,
   "id": "ff017b95",
   "metadata": {},
   "outputs": [],
   "source": [
    "dtr1.fit(xtrain2,ytrain2)\n",
    "ypred=dtr1.predict(xtest2)\n",
    "\n",
    "print('-----------------------------DT Regressor Results--------------------------')\n",
    "print('# features:',dtr1.n_features_,'-----','# outputs:',dtr1.n_outputs_)\n",
    "print('R^2 test scores ----- AVG=',dtr1.score(xtest2,ytest2),'----- by variable:',r2_score(ytest2,ypred,multioutput='raw_values') )\n",
    "print('MAE test scores ----- AVG=',mean_absolute_error(ytest2,ypred),'----- by variable:',mean_absolute_error(ytest2,ypred,multioutput='raw_values'))"
   ]
  },
  {
   "cell_type": "code",
   "execution_count": null,
   "id": "6cc990c0",
   "metadata": {},
   "outputs": [],
   "source": [
    "dtr2.fit(xtrain2,ytrain2)\n",
    "ypred=dtr2.predict(xtest2)\n",
    "\n",
    "print('-----------------------------DT Regressor Results--------------------------')\n",
    "print('# features:',dtr2.n_features_,'-----','# outputs:',dtr2.n_outputs_)\n",
    "print('R^2 test scores ----- AVG=',dtr2.score(xtest2,ytest2),'----- by variable:',r2_score(ytest2,ypred,multioutput='raw_values') )\n",
    "print('MAE test scores ----- AVG=',mean_absolute_error(ytest2,ypred),'----- by variable:',mean_absolute_error(ytest2,ypred,multioutput='raw_values'))"
   ]
  },
  {
   "cell_type": "code",
   "execution_count": null,
   "id": "e2f8f982",
   "metadata": {},
   "outputs": [],
   "source": [
    "reg100.fit(xtrain2,ytrain2)\n",
    "ypred=reg100.predict(xtest2)\n",
    "\n",
    "print('-----------------------------DT Regressor Results--------------------------')\n",
    "print('# features:',reg100.n_features_,'-----','# outputs:',reg100.n_outputs_)\n",
    "print('R^2 test scores ----- AVG=',dtr1.score(xtest2,ytest2),'----- by variable:',r2_score(ytest2,ypred,multioutput='raw_values') )\n",
    "print('MAE test scores ----- AVG=',mean_absolute_error(ytest2,ypred),'----- by variable:',mean_absolute_error(ytest2,ypred,multioutput='raw_values'))"
   ]
  },
  {
   "cell_type": "code",
   "execution_count": null,
   "id": "22a89bae",
   "metadata": {},
   "outputs": [],
   "source": [
    "reg64.fit(xtrain2,ytrain2)\n",
    "ypred=reg64.predict(xtest2)\n",
    "\n",
    "print('-----------------------------DT Regressor Results--------------------------')\n",
    "print('# features:',reg64.n_features_,'-----','# outputs:',reg64.n_outputs_)\n",
    "print('R^2 test scores ----- AVG=',dtr1.score(xtest2,ytest2),'----- by variable:',r2_score(ytest2,ypred,multioutput='raw_values') )\n",
    "print('MAE test scores ----- AVG=',mean_absolute_error(ytest2,ypred),'----- by variable:',mean_absolute_error(ytest2,ypred,multioutput='raw_values'))"
   ]
  },
  {
   "cell_type": "code",
   "execution_count": null,
   "id": "ec6564dd",
   "metadata": {},
   "outputs": [],
   "source": [
    "#Test classifiers and regression models on valid set\n",
    "#by if classifier.predict(valid_i)==True >>>  reg.predict(valid_i)"
   ]
  }
 ],
 "metadata": {
  "kernelspec": {
   "display_name": "Python 3",
   "language": "python",
   "name": "python3"
  },
  "language_info": {
   "codemirror_mode": {
    "name": "ipython",
    "version": 3
   },
   "file_extension": ".py",
   "mimetype": "text/x-python",
   "name": "python",
   "nbconvert_exporter": "python",
   "pygments_lexer": "ipython3",
   "version": "3.8.10"
  }
 },
 "nbformat": 4,
 "nbformat_minor": 5
}
